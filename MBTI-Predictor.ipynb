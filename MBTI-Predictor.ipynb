{
 "cells": [
  {
   "cell_type": "code",
   "execution_count": 1,
   "metadata": {},
   "outputs": [],
   "source": [
    "import json\n",
    "import re"
   ]
  },
  {
   "cell_type": "markdown",
   "metadata": {},
   "source": [
    "### Feed Forward Neural Network Parameters"
   ]
  },
  {
   "cell_type": "code",
   "execution_count": 2,
   "metadata": {},
   "outputs": [],
   "source": [
    "SEED = 600\n",
    "# 1st Layer\n",
    "LAYER1_SIZE = 16\n",
    "LAYER1_ACTIVATION = 'relu'\n",
    "LAYER1_INPUT_DIMENSION = 10000\n",
    "\n",
    "LAYER1_PARAMS = [str(LAYER1_SIZE), LAYER1_ACTIVATION, LAYER1_INPUT_DIMENSION]\n",
    "\n",
    "# 2nd LAYER\n",
    "LAYER2_SIZE = 16\n",
    "LAYER2_ACTIVATION = 'relu'\n",
    "\n",
    "LAYER2_PARAMS = [str(LAYER2_SIZE), LAYER2_ACTIVATION]\n",
    "\n",
    "# 3rd LAYER\n",
    "LAYER3_SIZE = 1\n",
    "LAYER3_ACTIVATION = 'sigmoid'\n",
    "\n",
    "LAYER3_PARAMS = [str(LAYER3_SIZE), LAYER3_ACTIVATION]\n",
    "\n",
    "# Geralizers\n",
    "DROPOUT_RATE = 0.5\n",
    "L1 = 0.001\n",
    "L2 = 0.001\n",
    "\n",
    "# TRAINING\n",
    "EPOCHS = 50\n",
    "BATCH_SIZE = 4000\n",
    "\n",
    "TRAIN_PARAMS = [EPOCHS, BATCH_SIZE]\n",
    "\n",
    "# COMPILATION\n",
    "OPTIMIZER = 'rmsprop'\n",
    "LOSS = 'binary_crossentropy'\n",
    "METRICS = 'accuracy'\n",
    "\n",
    "COMPILATION_PARAMS = [OPTIMIZER, LOSS, METRICS]"
   ]
  },
  {
   "cell_type": "code",
   "execution_count": 3,
   "metadata": {},
   "outputs": [],
   "source": [
    "# This file contains 8600ish users Data\n",
    "# In the form: {'MBTI Type', 'Social Media Posts'}\n",
    "dataFile = open('formatted_data.json', 'r')"
   ]
  },
  {
   "cell_type": "code",
   "execution_count": 4,
   "metadata": {},
   "outputs": [],
   "source": [
    "data = []"
   ]
  },
  {
   "cell_type": "code",
   "execution_count": 5,
   "metadata": {},
   "outputs": [],
   "source": [
    "# loading the json data into a list\n",
    "for line in dataFile:\n",
    "    data.append(json.loads(line))"
   ]
  },
  {
   "cell_type": "code",
   "execution_count": 6,
   "metadata": {},
   "outputs": [],
   "source": [
    "types = []\n",
    "posts = []"
   ]
  },
  {
   "cell_type": "code",
   "execution_count": 7,
   "metadata": {},
   "outputs": [],
   "source": [
    "# Separating data into 2 separate lists for preprocessing\n",
    "# For the most part we process the 'post' data\n",
    "# we skip the first element as that is only the label\n",
    "for i in range(1, len(data)):\n",
    "    types.append(data[i]['Type'])\n",
    "    #posts.append(data[i]['Post'])"
   ]
  },
  {
   "cell_type": "raw",
   "metadata": {
    "scrolled": true
   },
   "source": [
    "# Turning the posts from: 'post1|||post2|||post3'\n",
    "#                     to: ['post1', 'post2', 'post3']\n",
    "# expects a list of posts as strings\n",
    "# returns a list of lists of posts\n",
    "def vectorize_post_data(posts):\n",
    "    for index in range(0, len(posts)):\n",
    "        posts[index] = posts[index].split(\"|||\")\n",
    "        \n",
    "    return posts\n",
    "\n",
    "posts = vectorize_post_data(posts)"
   ]
  },
  {
   "cell_type": "raw",
   "metadata": {},
   "source": [
    "def remove_hyperTextLinksFromPosts(posts):\n",
    "    for index in range(0, len(posts)):\n",
    "        usable_post = [post for post in posts[index] if not re.search(r'^(.)*http(.)*$', post)]\n",
    "        posts[index] = usable_post\n",
    "    \n",
    "    return posts\n",
    "        \n",
    "posts = remove_hyperTextLinksFromPosts(posts)"
   ]
  },
  {
   "cell_type": "raw",
   "metadata": {},
   "source": [
    "def remove_MBTIClassifiersFromPosts(posts):\n",
    "    MBTI_regex = r'[\\w]*(i|e)(s|n)(f|t)(p|j)[\\w]*'\n",
    "    for i in range(0, len(posts)):\n",
    "        for j in range(0, len(posts[i])):\n",
    "            posts[i][j] = re.sub(MBTI_regex, ' ', posts[i][j], flags=re.IGNORECASE)\n",
    "        \n",
    "    return posts\n",
    "    \n",
    "posts = remove_MBTIClassifiersFromPosts(posts)"
   ]
  },
  {
   "cell_type": "raw",
   "metadata": {},
   "source": [
    "import nltk\n",
    "from nltk.tokenize import RegexpTokenizer\n",
    "from nltk.corpus import stopwords\n",
    "\n",
    "stop_words = set(stopwords.words('english'))\n",
    "\n",
    "def isInt(s):\n",
    "    try: \n",
    "        int(s)\n",
    "        return True\n",
    "    except ValueError:\n",
    "        return False\n",
    "\n",
    "def tokenize_posts(posts):\n",
    "    tokenizer = RegexpTokenizer(r'\\w+')\n",
    "    \n",
    "    for i in range(0, len(posts)):\n",
    "        user_words = []\n",
    "        for j in range(0, len(posts[i])):\n",
    "            post = tokenizer.tokenize(posts[i][j])\n",
    "            for word in post:\n",
    "                if not isInt(word) and len(word) > 1:\n",
    "                    user_words.append(word.lower())\n",
    "                user_words = [w for w in user_words if not w in stop_words]\n",
    "        posts[i] = user_words\n",
    "    \n",
    "    return posts\n",
    "\n",
    "posts = tokenize_posts(posts)"
   ]
  },
  {
   "cell_type": "code",
   "execution_count": 8,
   "metadata": {},
   "outputs": [],
   "source": [
    "import pickle\n",
    "\n",
    "tokenized_posts = []\n",
    "with open ('tokenized_formatted_data.txt', 'rb') as fp:\n",
    "    tokenized_posts = pickle.load(fp)"
   ]
  },
  {
   "cell_type": "code",
   "execution_count": 9,
   "metadata": {},
   "outputs": [],
   "source": [
    "all_words_list = []\n",
    "\n",
    "for user in tokenized_posts:\n",
    "    for word in user:\n",
    "        all_words_list.append(word)"
   ]
  },
  {
   "cell_type": "code",
   "execution_count": 10,
   "metadata": {},
   "outputs": [],
   "source": [
    "from collections import Counter"
   ]
  },
  {
   "cell_type": "code",
   "execution_count": 11,
   "metadata": {},
   "outputs": [],
   "source": [
    "freq_list = Counter(all_words_list)\n",
    "dictionary = freq_list.most_common(10000)"
   ]
  },
  {
   "cell_type": "code",
   "execution_count": 12,
   "metadata": {},
   "outputs": [],
   "source": [
    "dictionary = list(zip(*dictionary))[0]"
   ]
  },
  {
   "cell_type": "code",
   "execution_count": 13,
   "metadata": {},
   "outputs": [],
   "source": [
    "nums = range(0, 10000)\n",
    "word_int = dict(zip(dictionary, nums))"
   ]
  },
  {
   "cell_type": "code",
   "execution_count": 14,
   "metadata": {},
   "outputs": [],
   "source": [
    "x_vals = []\n",
    "\n",
    "for user in tokenized_posts:\n",
    "    x_vals.append([word_int[x] for x in user if x in word_int.keys()])"
   ]
  },
  {
   "cell_type": "code",
   "execution_count": 15,
   "metadata": {},
   "outputs": [],
   "source": [
    "intro_extro = [word[0:1] for word in types[0:len(types)]]\n",
    "bin_intro_extro = []\n",
    "for letter in intro_extro:\n",
    "    if (letter == 'I'):\n",
    "        bin_intro_extro.append(0)\n",
    "    else:\n",
    "        bin_intro_extro.append(1)\n"
   ]
  },
  {
   "cell_type": "code",
   "execution_count": 16,
   "metadata": {},
   "outputs": [],
   "source": [
    "import numpy as np\n",
    "import random\n",
    "\n",
    "x = np.array(x_vals)\n",
    "random.seed(SEED)\n",
    "random.shuffle(x)\n",
    "test_data = x[:1500]\n",
    "train_data = x[1500:]\n",
    "\n",
    "def vectorize_sequences(sequences, dimension=10000):\n",
    "    results = np.zeros((len(sequences), dimension))\n",
    "    for i, sequence in enumerate(sequences):\n",
    "        results[i, sequence] = 1.\n",
    "    return results\n",
    "\n",
    "x_train = vectorize_sequences(train_data)\n",
    "x_test = vectorize_sequences(test_data)"
   ]
  },
  {
   "cell_type": "code",
   "execution_count": 17,
   "metadata": {},
   "outputs": [
    {
     "name": "stderr",
     "output_type": "stream",
     "text": [
      "Using TensorFlow backend.\n"
     ]
    }
   ],
   "source": [
    "from keras.utils.np_utils import to_categorical\n",
    "\n",
    "y = np.asarray(bin_intro_extro).astype('float32')\n",
    "random.seed(SEED)\n",
    "random.shuffle(y)\n",
    "y_test = y[:1500]\n",
    "y_train = y[1500:]"
   ]
  },
  {
   "cell_type": "code",
   "execution_count": 18,
   "metadata": {},
   "outputs": [],
   "source": [
    "x_val = x_train[:1500]\n",
    "x_partial_train = x_train[1500:]\n",
    "\n",
    "y_val = y_train[:1500]\n",
    "y_partial_train = y_train[1500:]"
   ]
  },
  {
   "cell_type": "code",
   "execution_count": 19,
   "metadata": {},
   "outputs": [],
   "source": [
    "# FEED FORWARD MODEL\n",
    "\n",
    "from keras import models\n",
    "from keras import layers\n",
    "from keras import regularizers\n",
    "import tensorflow as tf\n",
    "#kernel_regularizer=regularizers.l1_l2(l1=0.001, l2=0.001)\n",
    "def build_model():\n",
    "    model = models.Sequential()\n",
    "    model.add(layers.Dense(LAYER1_SIZE, activation=LAYER1_ACTIVATION, input_shape = (LAYER1_INPUT_DIMENSION,)))\n",
    "    model.add(layers.Dense(LAYER2_SIZE, activation=LAYER2_ACTIVATION))\n",
    "    model.add(layers.Dense(1, activation=LAYER3_ACTIVATION))\n",
    "    model.compile(optimizer = OPTIMIZER, loss = LOSS, metrics = [METRICS])\n",
    "    return model"
   ]
  },
  {
   "cell_type": "raw",
   "metadata": {},
   "source": [
    "# LSTM MODEL\n",
    "\n",
    "from keras import models \n",
    "from keras import layers\n",
    "import tensorflow as tf\n",
    "def build_model():\n",
    "    model = models.Sequential()\n",
    "    model.add(layers.Embedding(10000, 32))\n",
    "    model.add(layers.LSTM(32))\n",
    "    model.add(layers.Dense(1, activation='sigmoid'))\n",
    "    model.compile(optimizer = 'adam', loss = 'binary_crossentropy', metrics = ['accuracy'])\n",
    "    return model"
   ]
  },
  {
   "cell_type": "code",
   "execution_count": 20,
   "metadata": {},
   "outputs": [
    {
     "name": "stdout",
     "output_type": "stream",
     "text": [
      "Epoch 1/50\n",
      "7175/7175 [==============================] - 1s 186us/step - loss: 0.6597 - acc: 0.4768\n",
      "Epoch 2/50\n",
      "7175/7175 [==============================] - 1s 118us/step - loss: 0.5375 - acc: 0.7718\n",
      "Epoch 3/50\n",
      "7175/7175 [==============================] - 1s 108us/step - loss: 0.5209 - acc: 0.7718\n",
      "Epoch 4/50\n",
      "7175/7175 [==============================] - 1s 106us/step - loss: 0.5075 - acc: 0.7718\n",
      "Epoch 5/50\n",
      "7175/7175 [==============================] - 1s 107us/step - loss: 0.4943 - acc: 0.7720\n",
      "Epoch 6/50\n",
      "7175/7175 [==============================] - 1s 113us/step - loss: 0.4819 - acc: 0.7727\n",
      "Epoch 7/50\n",
      "7175/7175 [==============================] - 1s 112us/step - loss: 0.4734 - acc: 0.7724\n",
      "Epoch 8/50\n",
      "7175/7175 [==============================] - 1s 105us/step - loss: 0.4555 - acc: 0.7741\n",
      "Epoch 9/50\n",
      "7175/7175 [==============================] - 1s 106us/step - loss: 0.4487 - acc: 0.7791\n",
      "Epoch 10/50\n",
      "7175/7175 [==============================] - 1s 108us/step - loss: 0.4391 - acc: 0.7882\n",
      "Epoch 11/50\n",
      "7175/7175 [==============================] - 1s 106us/step - loss: 0.4297 - acc: 0.8003\n",
      "Epoch 12/50\n",
      "7175/7175 [==============================] - 1s 105us/step - loss: 0.4241 - acc: 0.7940\n",
      "Epoch 13/50\n",
      "7175/7175 [==============================] - 1s 106us/step - loss: 0.4039 - acc: 0.8050\n",
      "Epoch 14/50\n",
      "7175/7175 [==============================] - 1s 112us/step - loss: 0.4032 - acc: 0.8067\n",
      "Epoch 15/50\n",
      "7175/7175 [==============================] - 1s 117us/step - loss: 0.3862 - acc: 0.8191\n",
      "Epoch 16/50\n",
      "7175/7175 [==============================] - 1s 110us/step - loss: 0.3869 - acc: 0.8173\n",
      "Epoch 17/50\n",
      "7175/7175 [==============================] - 1s 105us/step - loss: 0.3711 - acc: 0.8268\n",
      "Epoch 18/50\n",
      "7175/7175 [==============================] - 1s 134us/step - loss: 0.3671 - acc: 0.8322\n",
      "Epoch 19/50\n",
      "7175/7175 [==============================] - 1s 120us/step - loss: 0.3564 - acc: 0.8337\n",
      "Epoch 20/50\n",
      "7175/7175 [==============================] - 1s 111us/step - loss: 0.3431 - acc: 0.8399\n",
      "Epoch 21/50\n",
      "7175/7175 [==============================] - 1s 115us/step - loss: 0.3317 - acc: 0.8514\n",
      "Epoch 22/50\n",
      "7175/7175 [==============================] - 1s 114us/step - loss: 0.3300 - acc: 0.8623\n",
      "Epoch 23/50\n",
      "7175/7175 [==============================] - 1s 107us/step - loss: 0.3328 - acc: 0.8560\n",
      "Epoch 24/50\n",
      "7175/7175 [==============================] - 1s 110us/step - loss: 0.3237 - acc: 0.8620\n",
      "Epoch 25/50\n",
      "7175/7175 [==============================] - 1s 110us/step - loss: 0.3119 - acc: 0.8672\n",
      "Epoch 26/50\n",
      "7175/7175 [==============================] - 1s 109us/step - loss: 0.2989 - acc: 0.8755\n",
      "Epoch 27/50\n",
      "7175/7175 [==============================] - 1s 109us/step - loss: 0.2898 - acc: 0.8860\n",
      "Epoch 28/50\n",
      "7175/7175 [==============================] - 1s 108us/step - loss: 0.2857 - acc: 0.8945\n",
      "Epoch 29/50\n",
      "7175/7175 [==============================] - 1s 127us/step - loss: 0.2845 - acc: 0.8879\n",
      "Epoch 30/50\n",
      "7175/7175 [==============================] - 1s 111us/step - loss: 0.2797 - acc: 0.8941\n",
      "Epoch 31/50\n",
      "7175/7175 [==============================] - 1s 113us/step - loss: 0.2772 - acc: 0.8911\n",
      "Epoch 32/50\n",
      "7175/7175 [==============================] - 1s 137us/step - loss: 0.2683 - acc: 0.8963\n",
      "Epoch 33/50\n",
      "7175/7175 [==============================] - 1s 114us/step - loss: 0.2538 - acc: 0.9111\n",
      "Epoch 34/50\n",
      "7175/7175 [==============================] - 1s 107us/step - loss: 0.2483 - acc: 0.9208\n",
      "Epoch 35/50\n",
      "7175/7175 [==============================] - 1s 105us/step - loss: 0.2549 - acc: 0.9104\n",
      "Epoch 36/50\n",
      "7175/7175 [==============================] - 1s 105us/step - loss: 0.2592 - acc: 0.8955\n",
      "Epoch 37/50\n",
      "7175/7175 [==============================] - 1s 105us/step - loss: 0.2358 - acc: 0.9104\n",
      "Epoch 38/50\n",
      "7175/7175 [==============================] - 1s 106us/step - loss: 0.2202 - acc: 0.9436\n",
      "Epoch 39/50\n",
      "7175/7175 [==============================] - 1s 106us/step - loss: 0.2143 - acc: 0.9462\n",
      "Epoch 40/50\n",
      "7175/7175 [==============================] - 1s 106us/step - loss: 0.2085 - acc: 0.9519\n",
      "Epoch 41/50\n",
      "7175/7175 [==============================] - 1s 106us/step - loss: 0.2031 - acc: 0.9541\n",
      "Epoch 42/50\n",
      "7175/7175 [==============================] - 1s 107us/step - loss: 0.2030 - acc: 0.9507\n",
      "Epoch 43/50\n",
      "7175/7175 [==============================] - 1s 109us/step - loss: 0.2223 - acc: 0.9236\n",
      "Epoch 44/50\n",
      "7175/7175 [==============================] - 1s 124us/step - loss: 0.2266 - acc: 0.9069\n",
      "Epoch 45/50\n",
      "7175/7175 [==============================] - 1s 126us/step - loss: 0.1989 - acc: 0.9371\n",
      "Epoch 46/50\n",
      "7175/7175 [==============================] - 1s 114us/step - loss: 0.1860 - acc: 0.9530\n",
      "Epoch 47/50\n",
      "7175/7175 [==============================] - 1s 108us/step - loss: 0.1777 - acc: 0.9636\n",
      "Epoch 48/50\n",
      "7175/7175 [==============================] - 1s 106us/step - loss: 0.1792 - acc: 0.9618\n",
      "Epoch 49/50\n",
      "7175/7175 [==============================] - 1s 105us/step - loss: 0.1824 - acc: 0.9530\n",
      "Epoch 50/50\n",
      "7175/7175 [==============================] - 1s 116us/step - loss: 0.1759 - acc: 0.9547\n",
      "1500/1500 [==============================] - 0s 109us/step\n"
     ]
    },
    {
     "data": {
      "text/plain": [
       "'[0.5870801531473796, 0.7719999996821085]'"
      ]
     },
     "execution_count": 20,
     "metadata": {},
     "output_type": "execute_result"
    }
   ],
   "source": [
    "model = build_model()\n",
    "with tf.device('/gpu:0'):\n",
    "    history = model.fit(x_train, y_train, epochs = EPOCHS, batch_size = BATCH_SIZE)\n",
    "    results = model.evaluate(x_test, y_test)\n",
    "str(results)"
   ]
  },
  {
   "cell_type": "code",
   "execution_count": 21,
   "metadata": {},
   "outputs": [
    {
     "name": "stdout",
     "output_type": "stream",
     "text": [
      "=================================\n",
      "6/27/2018 1:3:45\n",
      "\n",
      "SEED:\t600 \n",
      "Layer1:\t['16', 'relu', 10000] \n",
      "Layer2:\t['16', 'relu'] \n",
      "Layer3:\t['1', 'sigmoid'] \n",
      "Generalizers:\t\n",
      "Compilation:\t['rmsprop', 'binary_crossentropy', 'accuracy'] \n",
      "Training: EPOCHS 50 | BATCH SIZE 4000\n",
      "\tRESULTS:\tLOSS:0.5870801531473796 | ACCURACY:0.7719999996821085\n",
      "\n",
      "\n"
     ]
    }
   ],
   "source": [
    "import datetime\n",
    "now = datetime.datetime.now()\n",
    "\n",
    "log_file = open('results.log', 'a+')\n",
    "\n",
    "stat = \"=================================\\n\" + \\\n",
    "str(now.month) + \"/\" + str(now.day) + \"/\" + str(now.year) + \" \" + \\\n",
    "str(now.hour) + \":\" + str(now.minute) + \":\" + str(now.second) + \"\\n\" + \\\n",
    "\"\\nSEED:\\t\" + str(SEED) +\" \\n\" + \\\n",
    "\"Layer1:\\t\" + str(LAYER1_PARAMS) +\" \\n\" + \\\n",
    "\"Layer2:\\t\" + str(LAYER2_PARAMS) +\" \\n\" + \\\n",
    "\"Layer3:\\t\" + str(LAYER3_PARAMS) +\" \\n\" + \\\n",
    "\"Generalizers:\\t\" + \"\\n\" + \\\n",
    "\"Compilation:\\t\" + str(COMPILATION_PARAMS) +\" \\n\" + \\\n",
    "\"Training: \" + \"EPOCHS \" + str(EPOCHS) + \" | \" + \"BATCH SIZE \" + str(BATCH_SIZE) + \"\\n\" + \\\n",
    "\"\\tRESULTS:\\t\" + \"LOSS:\" + str(results[0]) +  \" | \"+\"ACCURACY:\" + (str(results[1])) + \"\\n\" + \\\n",
    "\"\\n\"\n",
    "\n",
    "print(stat)\n",
    "log_file.write(stat)\n",
    "log_file.close()"
   ]
  },
  {
   "cell_type": "raw",
   "metadata": {},
   "source": [
    "model = build_model()\n",
    "with tf.device('/gpu:0'):\n",
    "    history = model.fit(x_partial_train, y_partial_train, epochs = 40, batch_size = 1024, validation_data=(x_val, y_val))"
   ]
  },
  {
   "cell_type": "raw",
   "metadata": {
    "scrolled": false
   },
   "source": [
    "import matplotlib.pyplot as plt\n",
    "\n",
    "history_dict = history.history\n",
    "train_loss = history_dict['loss']\n",
    "val_loss = history_dict['val_loss']\n",
    "\n",
    "train_acc = history_dict['acc']\n",
    "val_acc   = history_dict['val_acc']\n",
    "\n",
    "epochs = range(1, len(history_dict['acc']) + 1)\n",
    "\n",
    "plt.plot(epochs, train_loss, 'bo', label='Training loss')\n",
    "plt.plot(epochs, val_loss, 'b', label='Validation loss')\n",
    "plt.title('Training and validation loss')\n",
    "plt.xlabel('Epochs')\n",
    "plt.ylabel('Loss')\n",
    "plt.legend()\n",
    "\n",
    "plt.show()\n",
    "\n",
    "plt.clf()\n",
    "\n",
    "plt.plot(epochs, train_acc, 'bo', label='Training Accuracy')\n",
    "plt.plot(epochs, val_acc, 'b', label='Validation Accuracy')\n",
    "plt.title('Training and validation Accuracy')\n",
    "plt.xlabel('Epochs')\n",
    "plt.ylabel('Accuracy')\n",
    "plt.legend()\n",
    "\n",
    "plt.show()"
   ]
  },
  {
   "cell_type": "raw",
   "metadata": {},
   "source": [
    "#K-Fold Validation\n",
    "k = 4\n",
    "\n",
    "# // is floor div operator\n",
    "num_val_samples = len(x_train) // k\n",
    "\n",
    "k_val_loss = []\n",
    "k_val_acc = []\n",
    "\n",
    "for num_epochs in range(1, 20):\n",
    "    print(\"Epoch:\",num_epochs)\n",
    "    loss = []\n",
    "    acc = []\n",
    "    random.shuffle(x_train)\n",
    "    random.shuffle(y_train)\n",
    "    for i in range(k):\n",
    "        val_data = x_train[i * num_val_samples: (i + 1) * num_val_samples]\n",
    "        val_targets = y_train[i * num_val_samples: (i + 1) * num_val_samples]\n",
    "\n",
    "        partial_train_data = np.concatenate(\n",
    "            [x_train[:i * num_val_samples],\n",
    "             x_train[(i + 1) * num_val_samples:]],\n",
    "            axis=0)\n",
    "        partial_train_targets = np.concatenate(\n",
    "            [y_train[:i * num_val_samples],\n",
    "             y_train[(i + 1) * num_val_samples:]],\n",
    "            axis=0)\n",
    "\n",
    "        model = build_model()\n",
    "        with tf.device('/gpu:0'):\n",
    "            model.fit(partial_train_data, partial_train_targets,\n",
    "                epochs=num_epochs, batch_size=7000,verbose = 0)\n",
    "\n",
    "            val_loss, val_acc = model.evaluate(val_data, val_targets, verbose = 0)\n",
    "\n",
    "        loss.append(val_loss)\n",
    "        acc.append(val_acc)\n",
    "    k_val_loss.append(np.mean(loss))\n",
    "    k_val_acc.append(np.mean(acc))\n",
    "    print(str(k_val_loss[num_epochs - 1]), str(k_val_acc[num_epochs - 1]))"
   ]
  },
  {
   "cell_type": "raw",
   "metadata": {},
   "source": [
    "import matplotlib.pyplot as plt\n",
    "\n",
    "epochs = range(1, 12)\n",
    "\n",
    "plt.clf()\n",
    "\n",
    "plt.plot(epochs, k_val_acc, 'b', label='Validation Accuracy')\n",
    "plt.title('Validation Accuracy')\n",
    "plt.xlabel('Epochs')\n",
    "plt.ylabel('Accuracy')\n",
    "plt.legend()\n",
    "\n",
    "plt.show()\n",
    "\n",
    "plt.clf()\n",
    "\n",
    "\n",
    "plt.plot(epochs, k_val_loss, 'bo', label='Validation loss')\n",
    "plt.title('Validation loss')\n",
    "plt.xlabel('Epochs')\n",
    "plt.ylabel('Loss')\n",
    "plt.legend()\n",
    "\n",
    "plt.show()"
   ]
  },
  {
   "cell_type": "code",
   "execution_count": null,
   "metadata": {},
   "outputs": [],
   "source": []
  }
 ],
 "metadata": {
  "kernelspec": {
   "display_name": "URE18",
   "language": "python",
   "name": "ure18"
  },
  "language_info": {
   "codemirror_mode": {
    "name": "ipython",
    "version": 3
   },
   "file_extension": ".py",
   "mimetype": "text/x-python",
   "name": "python",
   "nbconvert_exporter": "python",
   "pygments_lexer": "ipython3",
   "version": "3.6.5"
  }
 },
 "nbformat": 4,
 "nbformat_minor": 2
}
