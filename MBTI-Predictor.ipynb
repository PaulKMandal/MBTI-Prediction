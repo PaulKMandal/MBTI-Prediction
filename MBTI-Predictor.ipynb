{
 "cells": [
  {
   "cell_type": "code",
   "execution_count": 1,
   "metadata": {},
   "outputs": [],
   "source": [
    "import pandas as np\n",
    "df = np.read_csv('mbti_1.csv')\n",
    "\n",
    "# populating types array\n",
    "labels = []\n",
    "for _type in df['type']:\n",
    "     labels.append(_type)"
   ]
  },
  {
   "cell_type": "code",
   "execution_count": 2,
   "metadata": {},
   "outputs": [],
   "source": [
    "import pickle\n",
    "\n",
    "posts = []\n",
    "with open ('processed_posts.pkl', 'rb') as fp:\n",
    "    posts = pickle.load(fp)"
   ]
  },
  {
   "cell_type": "code",
   "execution_count": 3,
   "metadata": {},
   "outputs": [],
   "source": [
    "tokenized_posts = []\n",
    "\n",
    "for post in posts:\n",
    "    user = []\n",
    "    for sentence in post:\n",
    "        user += sentence.split(\" \")\n",
    "        \n",
    "    tokenized_posts.append(user)"
   ]
  },
  {
   "cell_type": "code",
   "execution_count": 4,
   "metadata": {},
   "outputs": [],
   "source": [
    "all_words_list = []\n",
    "\n",
    "for user in tokenized_posts:\n",
    "    for word in user:\n",
    "        all_words_list.append(word)"
   ]
  },
  {
   "cell_type": "code",
   "execution_count": 5,
   "metadata": {},
   "outputs": [],
   "source": [
    "from collections import Counter"
   ]
  },
  {
   "cell_type": "code",
   "execution_count": 6,
   "metadata": {},
   "outputs": [],
   "source": [
    "freq_list = Counter(all_words_list)\n",
    "dictionary = freq_list.most_common(10000)"
   ]
  },
  {
   "cell_type": "code",
   "execution_count": 7,
   "metadata": {},
   "outputs": [],
   "source": [
    "dictionary = list(zip(*dictionary))[0]"
   ]
  },
  {
   "cell_type": "code",
   "execution_count": 8,
   "metadata": {},
   "outputs": [],
   "source": [
    "nums = range(0, 10000)\n",
    "word_int = dict(zip(dictionary, nums))"
   ]
  },
  {
   "cell_type": "code",
   "execution_count": 9,
   "metadata": {},
   "outputs": [],
   "source": [
    "x_vals = []\n",
    "for user in tokenized_posts:\n",
    "    x_vals.append([word_int[x] for x in user if x in word_int.keys()])"
   ]
  },
  {
   "cell_type": "code",
   "execution_count": 10,
   "metadata": {},
   "outputs": [],
   "source": [
    "temp = []\n",
    "for i in range(0,8675):\n",
    "    row = []\n",
    "    row.append(labels[i])\n",
    "    row.append(x_vals[i])\n",
    "    temp.append(row)"
   ]
  },
  {
   "cell_type": "code",
   "execution_count": 11,
   "metadata": {},
   "outputs": [],
   "source": [
    "temp = sorted(temp)"
   ]
  },
  {
   "cell_type": "code",
   "execution_count": 12,
   "metadata": {},
   "outputs": [],
   "source": [
    "x_train = []\n",
    "y_train = []\n",
    "x_test = []\n",
    "y_test = []"
   ]
  },
  {
   "cell_type": "code",
   "execution_count": 15,
   "metadata": {},
   "outputs": [],
   "source": [
    "labels = []\n",
    "x_vals = []\n",
    "for i in range(0, 8675):\n",
    "    labels.append(temp[i][0])\n",
    "    x_vals.append(temp[i][1])"
   ]
  },
  {
   "cell_type": "code",
   "execution_count": 17,
   "metadata": {},
   "outputs": [],
   "source": [
    "current_type = labels[0]\n",
    "counter = 0\n",
    "last_change = 0\n",
    "\n",
    "for i in range(0, 8675):\n",
    "    if labels[i] != current_type or i == 8674:\n",
    "        end_index = last_change + round(counter - counter/10)\n",
    "        counter += last_change\n",
    "        \n",
    "        if (i == 8674):\n",
    "            counter += 1\n",
    "        \n",
    "        for j in range(last_change, end_index):\n",
    "            x_train.append(x_vals[j])\n",
    "            y_train.append(labels[j])\n",
    "        \n",
    "        for j in range(end_index, counter):\n",
    "            x_test.append(x_vals[j])\n",
    "            y_test.append(labels[j])\n",
    "        \n",
    "        last_change = i\n",
    "        counter = 1\n",
    "        current_type = labels[i]\n",
    "        continue\n",
    "    counter += 1\n",
    "        "
   ]
  },
  {
   "cell_type": "raw",
   "metadata": {},
   "source": [
    "with open('train_posts.pkl', 'wb') as fw:\n",
    "    pickle.dump(x_train, fw)"
   ]
  },
  {
   "cell_type": "code",
   "execution_count": 18,
   "metadata": {},
   "outputs": [],
   "source": [
    "type_dictionary = {\n",
    "    '0000':'INTJ',\n",
    "    '0001':'INTP',\n",
    "    '0010':'INFJ',\n",
    "    '0011':'INFP',\n",
    "    '0100':'ISTJ',\n",
    "    '0101':'ISTP',\n",
    "    '0110':'ISFJ',\n",
    "    '0111':'ISFP',\n",
    "    '1000':'ENTJ',\n",
    "    '1001':'ENTP',\n",
    "    '1010':'ENFJ',\n",
    "    '1011':'ENFP',\n",
    "    '1100':'ESTJ',\n",
    "    '1101':'ESTP',\n",
    "    '1110':'ESFJ',\n",
    "    '1111':'ESFP',\n",
    "}\n",
    "\n",
    "type_labels=['INTJ','INTP','INFJ','INFP','ISTJ','ISTP','ISFJ','ISFP', \\\n",
    "        'ENTJ','ENTP','ENFJ','ENFP','ESTJ','ESTP','ESFJ','ESFP',]\n",
    "\n",
    "def to_one_hot(arr):\n",
    "    one_hot_types = []\n",
    "\n",
    "    for label in arr:\n",
    "        bin_type = []\n",
    "\n",
    "        if (label[0] == 'I'):\n",
    "            bin_type.append(0)\n",
    "        else:\n",
    "            bin_type.append(1)\n",
    "\n",
    "        if (label[1] == 'N'):\n",
    "            bin_type.append(0)\n",
    "        else:\n",
    "            bin_type.append(1)\n",
    "\n",
    "        if (label[2] == 'T'):\n",
    "            bin_type.append(0)\n",
    "        else:\n",
    "            bin_type.append(1)\n",
    "\n",
    "        if (label[3] == 'J'):\n",
    "            bin_type.append(0)\n",
    "        else:\n",
    "            bin_type.append(1)\n",
    "\n",
    "        one_hot_types.append(bin_type)\n",
    "        \n",
    "    return one_hot_types\n",
    "    "
   ]
  },
  {
   "cell_type": "code",
   "execution_count": 19,
   "metadata": {},
   "outputs": [
    {
     "name": "stderr",
     "output_type": "stream",
     "text": [
      "Using TensorFlow backend.\n"
     ]
    }
   ],
   "source": [
    "import numpy as np\n",
    "from keras.utils.np_utils import to_categorical\n",
    "\n",
    "def vectorize_sequences(sequences, dimension=10000):\n",
    "    results = np.zeros((len(sequences), dimension))\n",
    "    for i, sequence in enumerate(sequences):\n",
    "        results[i, sequence] = 1.\n",
    "    return results\n",
    "\n",
    "x_train = vectorize_sequences(x_train)\n",
    "x_test = vectorize_sequences(x_test)\n",
    "\n",
    "y_train = np.asarray(to_one_hot(y_train)).astype('float32')\n",
    "y_test = np.asarray(to_one_hot(y_test)).astype('float32')\n",
    "\n"
   ]
  },
  {
   "cell_type": "raw",
   "metadata": {},
   "source": [
    "import numpy as np\n",
    "import random\n",
    "\n",
    "x = np.array(x_vals)\n",
    "indices = np.arange(x.shape[0])\n",
    "np.random.shuffle(indices)\n",
    "x = x[indices]\n",
    "test_data = x[:1500]\n",
    "train_data = x[1500:]\n",
    "\n",
    "def vectorize_sequences(sequences, dimension=10000):\n",
    "    results = np.zeros((len(sequences), dimension))\n",
    "    for i, sequence in enumerate(sequences):\n",
    "        results[i, sequence] = 1.\n",
    "    return results\n",
    "\n",
    "x_train = vectorize_sequences(train_data)\n",
    "x_test = vectorize_sequences(test_data)"
   ]
  },
  {
   "cell_type": "raw",
   "metadata": {},
   "source": [
    "from keras.utils.np_utils import to_categorical\n",
    "\n",
    "y = np.asarray(to_one_hot(types)).astype('float32')\n",
    "y = y[indices]\n",
    "y_test = y[:1500]\n",
    "y_train = y[1500:]"
   ]
  },
  {
   "cell_type": "raw",
   "metadata": {},
   "source": [
    "x_val = x_train[:1000]\n",
    "x_partial_train = x_train[1000:]\n",
    "\n",
    "y_val = y_train[:1000]\n",
    "y_partial_train = y_train[1000:]"
   ]
  },
  {
   "cell_type": "code",
   "execution_count": 20,
   "metadata": {},
   "outputs": [],
   "source": [
    "class_weights = [{0:1, 1:3.3}, {0:1, 1:6.24}, {0:1, 1:1.18}, {0:1, 1:0.65}]"
   ]
  },
  {
   "cell_type": "code",
   "execution_count": 29,
   "metadata": {},
   "outputs": [],
   "source": [
    "# FEED FORWARD MODEL\n",
    "from keras import models\n",
    "from keras import layers\n",
    "from keras.regularizers import l2\n",
    "import tensorflow as tf\n",
    "def build_model():\n",
    "    model = models.Sequential()\n",
    "    model.add(layers.Dense(16, activation='relu', input_shape = (10000,), kernel_regularizer=l2(0.001)))\n",
    "    model.add(layers.Dense(16, activation='relu', kernel_regularizer=l2(0.001)))\n",
    "    model.add(layers.Dense(4, activation='sigmoid'))\n",
    "    model.compile(optimizer = 'rmsprop',\n",
    "                  loss = 'binary_crossentropy',\n",
    "                  metrics = ['acc'])\n",
    "    return model"
   ]
  },
  {
   "cell_type": "code",
   "execution_count": 23,
   "metadata": {},
   "outputs": [],
   "source": [
    "from keras.callbacks import Callback\n",
    "\n",
    "class True_eval(Callback):\n",
    "    def __init__(self, validation_data):\n",
    "        self.validation_data = validation_data\n",
    "        self.accuracies = []\n",
    "    \n",
    "    def real_acc(self):\n",
    "        x_val = self.validation_data[0]\n",
    "        y_true = self.validation_data[1]\n",
    "        y_pred = self.model.predict(x_val)\n",
    "        acc = 0\n",
    "        for i in range(0, len(y_pred)):\n",
    "            if (y_pred[i].round().tolist() == y_true[i].tolist()):\n",
    "                acc +=1\n",
    "        return acc/len(y_pred)\n",
    "    \n",
    "    def on_epoch_end(self, epoch, logs={}):\n",
    "        real_acc = self.real_acc()\n",
    "        print (\"Real Accuracy: %f\" % real_acc)\n",
    "        self.accuracies.append(real_acc)\n",
    "        \n",
    "true_metrics = True_eval((x_test, y_test))"
   ]
  },
  {
   "cell_type": "code",
   "execution_count": 25,
   "metadata": {},
   "outputs": [
    {
     "name": "stdout",
     "output_type": "stream",
     "text": [
      "Train on 7806 samples, validate on 869 samples\n",
      "Epoch 1/60\n",
      "7806/7806 [==============================] - 1s 173us/step - loss: 0.6191 - categorical_accuracy: 0.2921 - val_loss: 0.6066 - val_categorical_accuracy: 0.1565\n",
      "Real Accuracy: 0.216341\n",
      "Epoch 2/60\n",
      "7806/7806 [==============================] - 1s 95us/step - loss: 0.5655 - categorical_accuracy: 0.3337 - val_loss: 0.5733 - val_categorical_accuracy: 0.3659\n",
      "Real Accuracy: 0.318757\n",
      "Epoch 3/60\n",
      "7806/7806 [==============================] - 1s 97us/step - loss: 0.5330 - categorical_accuracy: 0.3768 - val_loss: 0.5579 - val_categorical_accuracy: 0.3326\n",
      "Real Accuracy: 0.321059\n",
      "Epoch 4/60\n",
      "7806/7806 [==============================] - 1s 90us/step - loss: 0.5118 - categorical_accuracy: 0.4040 - val_loss: 0.5511 - val_categorical_accuracy: 0.4120\n",
      "Real Accuracy: 0.337169\n",
      "Epoch 5/60\n",
      "7806/7806 [==============================] - 1s 89us/step - loss: 0.4889 - categorical_accuracy: 0.4299 - val_loss: 0.5436 - val_categorical_accuracy: 0.3245\n",
      "Real Accuracy: 0.324511\n",
      "Epoch 6/60\n",
      "7806/7806 [==============================] - 1s 104us/step - loss: 0.4748 - categorical_accuracy: 0.4350 - val_loss: 0.5457 - val_categorical_accuracy: 0.3441\n",
      "Real Accuracy: 0.307250\n",
      "Epoch 7/60\n",
      "7806/7806 [==============================] - 1s 96us/step - loss: 0.4616 - categorical_accuracy: 0.4376 - val_loss: 0.5446 - val_categorical_accuracy: 0.3245\n",
      "Real Accuracy: 0.326812\n",
      "Epoch 8/60\n",
      "7806/7806 [==============================] - 1s 99us/step - loss: 0.4471 - categorical_accuracy: 0.4467 - val_loss: 0.5394 - val_categorical_accuracy: 0.3878\n",
      "Real Accuracy: 0.344074\n",
      "Epoch 9/60\n",
      "7806/7806 [==============================] - 1s 121us/step - loss: 0.4389 - categorical_accuracy: 0.4517 - val_loss: 0.5373 - val_categorical_accuracy: 0.4028\n",
      "Real Accuracy: 0.350978\n",
      "Epoch 10/60\n",
      "7806/7806 [==============================] - 1s 132us/step - loss: 0.4261 - categorical_accuracy: 0.4532 - val_loss: 0.5437 - val_categorical_accuracy: 0.3774\n",
      "Real Accuracy: 0.342923\n",
      "Epoch 11/60\n",
      "7806/7806 [==============================] - 1s 122us/step - loss: 0.4193 - categorical_accuracy: 0.4573 - val_loss: 0.5438 - val_categorical_accuracy: 0.3498\n",
      "Real Accuracy: 0.340621\n",
      "Epoch 12/60\n",
      "7806/7806 [==============================] - 1s 119us/step - loss: 0.4091 - categorical_accuracy: 0.4636 - val_loss: 0.5474 - val_categorical_accuracy: 0.3947\n",
      "Real Accuracy: 0.337169\n",
      "Epoch 13/60\n",
      "7806/7806 [==============================] - 1s 107us/step - loss: 0.3987 - categorical_accuracy: 0.4684 - val_loss: 0.5483 - val_categorical_accuracy: 0.4016\n",
      "Real Accuracy: 0.352129\n",
      "Epoch 14/60\n",
      "7806/7806 [==============================] - 1s 111us/step - loss: 0.3882 - categorical_accuracy: 0.4745 - val_loss: 0.5743 - val_categorical_accuracy: 0.4177\n",
      "Real Accuracy: 0.319908\n",
      "Epoch 15/60\n",
      "7806/7806 [==============================] - 1s 101us/step - loss: 0.3813 - categorical_accuracy: 0.4882 - val_loss: 0.5553 - val_categorical_accuracy: 0.4120\n",
      "Real Accuracy: 0.357883\n",
      "Epoch 16/60\n",
      "7806/7806 [==============================] - 1s 118us/step - loss: 0.3796 - categorical_accuracy: 0.4890 - val_loss: 0.5648 - val_categorical_accuracy: 0.4200\n",
      "Real Accuracy: 0.350978\n",
      "Epoch 17/60\n",
      "7806/7806 [==============================] - 1s 102us/step - loss: 0.3701 - categorical_accuracy: 0.4980 - val_loss: 0.5601 - val_categorical_accuracy: 0.4097\n",
      "Real Accuracy: 0.353280\n",
      "Epoch 18/60\n",
      "7806/7806 [==============================] - 1s 112us/step - loss: 0.3615 - categorical_accuracy: 0.5026 - val_loss: 0.5572 - val_categorical_accuracy: 0.4292\n",
      "Real Accuracy: 0.365938\n",
      "Epoch 19/60\n",
      "7806/7806 [==============================] - 1s 99us/step - loss: 0.3581 - categorical_accuracy: 0.5079 - val_loss: 0.5621 - val_categorical_accuracy: 0.4361\n",
      "Real Accuracy: 0.361335\n",
      "Epoch 20/60\n",
      "3584/7806 [============>.................] - ETA: 0s - loss: 0.3508 - categorical_accuracy: 0.5187"
     ]
    },
    {
     "ename": "KeyboardInterrupt",
     "evalue": "",
     "output_type": "error",
     "traceback": [
      "\u001b[0;31m---------------------------------------------------------------------------\u001b[0m",
      "\u001b[0;31mKeyboardInterrupt\u001b[0m                         Traceback (most recent call last)",
      "\u001b[0;32m<ipython-input-25-620ade111863>\u001b[0m in \u001b[0;36m<module>\u001b[0;34m()\u001b[0m\n\u001b[1;32m      1\u001b[0m \u001b[0mmodel\u001b[0m \u001b[0;34m=\u001b[0m \u001b[0mbuild_model\u001b[0m\u001b[0;34m(\u001b[0m\u001b[0;34m)\u001b[0m\u001b[0;34m\u001b[0m\u001b[0m\n\u001b[1;32m      2\u001b[0m \u001b[0;32mwith\u001b[0m \u001b[0mtf\u001b[0m\u001b[0;34m.\u001b[0m\u001b[0mdevice\u001b[0m\u001b[0;34m(\u001b[0m\u001b[0;34m'/gpu:0'\u001b[0m\u001b[0;34m)\u001b[0m\u001b[0;34m:\u001b[0m\u001b[0;34m\u001b[0m\u001b[0m\n\u001b[0;32m----> 3\u001b[0;31m     \u001b[0mhistory\u001b[0m \u001b[0;34m=\u001b[0m \u001b[0mmodel\u001b[0m\u001b[0;34m.\u001b[0m\u001b[0mfit\u001b[0m\u001b[0;34m(\u001b[0m\u001b[0mx_train\u001b[0m\u001b[0;34m,\u001b[0m \u001b[0my_train\u001b[0m\u001b[0;34m,\u001b[0m \u001b[0mvalidation_data\u001b[0m\u001b[0;34m=\u001b[0m \u001b[0;34m(\u001b[0m\u001b[0mx_test\u001b[0m\u001b[0;34m,\u001b[0m \u001b[0my_test\u001b[0m\u001b[0;34m)\u001b[0m\u001b[0;34m,\u001b[0m \u001b[0mepochs\u001b[0m \u001b[0;34m=\u001b[0m \u001b[0;36m60\u001b[0m\u001b[0;34m,\u001b[0m \u001b[0mbatch_size\u001b[0m \u001b[0;34m=\u001b[0m \u001b[0;36m512\u001b[0m\u001b[0;34m,\u001b[0m \u001b[0mcallbacks\u001b[0m\u001b[0;34m=\u001b[0m\u001b[0;34m[\u001b[0m\u001b[0mtrue_metrics\u001b[0m\u001b[0;34m]\u001b[0m\u001b[0;34m,\u001b[0m \u001b[0mclass_weight\u001b[0m\u001b[0;34m=\u001b[0m\u001b[0mclass_weights\u001b[0m\u001b[0;34m)\u001b[0m\u001b[0;34m\u001b[0m\u001b[0m\n\u001b[0m",
      "\u001b[0;32m/usr/local/lib/python3.6/site-packages/keras/engine/training.py\u001b[0m in \u001b[0;36mfit\u001b[0;34m(self, x, y, batch_size, epochs, verbose, callbacks, validation_split, validation_data, shuffle, class_weight, sample_weight, initial_epoch, steps_per_epoch, validation_steps, **kwargs)\u001b[0m\n\u001b[1;32m   1040\u001b[0m                                         \u001b[0minitial_epoch\u001b[0m\u001b[0;34m=\u001b[0m\u001b[0minitial_epoch\u001b[0m\u001b[0;34m,\u001b[0m\u001b[0;34m\u001b[0m\u001b[0m\n\u001b[1;32m   1041\u001b[0m                                         \u001b[0msteps_per_epoch\u001b[0m\u001b[0;34m=\u001b[0m\u001b[0msteps_per_epoch\u001b[0m\u001b[0;34m,\u001b[0m\u001b[0;34m\u001b[0m\u001b[0m\n\u001b[0;32m-> 1042\u001b[0;31m                                         validation_steps=validation_steps)\n\u001b[0m\u001b[1;32m   1043\u001b[0m \u001b[0;34m\u001b[0m\u001b[0m\n\u001b[1;32m   1044\u001b[0m     def evaluate(self, x=None, y=None,\n",
      "\u001b[0;32m/usr/local/lib/python3.6/site-packages/keras/engine/training_arrays.py\u001b[0m in \u001b[0;36mfit_loop\u001b[0;34m(model, f, ins, out_labels, batch_size, epochs, verbose, callbacks, val_f, val_ins, shuffle, callback_metrics, initial_epoch, steps_per_epoch, validation_steps)\u001b[0m\n\u001b[1;32m    197\u001b[0m                     \u001b[0mins_batch\u001b[0m\u001b[0;34m[\u001b[0m\u001b[0mi\u001b[0m\u001b[0;34m]\u001b[0m \u001b[0;34m=\u001b[0m \u001b[0mins_batch\u001b[0m\u001b[0;34m[\u001b[0m\u001b[0mi\u001b[0m\u001b[0;34m]\u001b[0m\u001b[0;34m.\u001b[0m\u001b[0mtoarray\u001b[0m\u001b[0;34m(\u001b[0m\u001b[0;34m)\u001b[0m\u001b[0;34m\u001b[0m\u001b[0m\n\u001b[1;32m    198\u001b[0m \u001b[0;34m\u001b[0m\u001b[0m\n\u001b[0;32m--> 199\u001b[0;31m                 \u001b[0mouts\u001b[0m \u001b[0;34m=\u001b[0m \u001b[0mf\u001b[0m\u001b[0;34m(\u001b[0m\u001b[0mins_batch\u001b[0m\u001b[0;34m)\u001b[0m\u001b[0;34m\u001b[0m\u001b[0m\n\u001b[0m\u001b[1;32m    200\u001b[0m                 \u001b[0;32mif\u001b[0m \u001b[0;32mnot\u001b[0m \u001b[0misinstance\u001b[0m\u001b[0;34m(\u001b[0m\u001b[0mouts\u001b[0m\u001b[0;34m,\u001b[0m \u001b[0mlist\u001b[0m\u001b[0;34m)\u001b[0m\u001b[0;34m:\u001b[0m\u001b[0;34m\u001b[0m\u001b[0m\n\u001b[1;32m    201\u001b[0m                     \u001b[0mouts\u001b[0m \u001b[0;34m=\u001b[0m \u001b[0;34m[\u001b[0m\u001b[0mouts\u001b[0m\u001b[0;34m]\u001b[0m\u001b[0;34m\u001b[0m\u001b[0m\n",
      "\u001b[0;32m/usr/local/lib/python3.6/site-packages/keras/backend/tensorflow_backend.py\u001b[0m in \u001b[0;36m__call__\u001b[0;34m(self, inputs)\u001b[0m\n\u001b[1;32m   2659\u001b[0m                 \u001b[0;32mreturn\u001b[0m \u001b[0mself\u001b[0m\u001b[0;34m.\u001b[0m\u001b[0m_legacy_call\u001b[0m\u001b[0;34m(\u001b[0m\u001b[0minputs\u001b[0m\u001b[0;34m)\u001b[0m\u001b[0;34m\u001b[0m\u001b[0m\n\u001b[1;32m   2660\u001b[0m \u001b[0;34m\u001b[0m\u001b[0m\n\u001b[0;32m-> 2661\u001b[0;31m             \u001b[0;32mreturn\u001b[0m \u001b[0mself\u001b[0m\u001b[0;34m.\u001b[0m\u001b[0m_call\u001b[0m\u001b[0;34m(\u001b[0m\u001b[0minputs\u001b[0m\u001b[0;34m)\u001b[0m\u001b[0;34m\u001b[0m\u001b[0m\n\u001b[0m\u001b[1;32m   2662\u001b[0m         \u001b[0;32melse\u001b[0m\u001b[0;34m:\u001b[0m\u001b[0;34m\u001b[0m\u001b[0m\n\u001b[1;32m   2663\u001b[0m             \u001b[0;32mif\u001b[0m \u001b[0mpy_any\u001b[0m\u001b[0;34m(\u001b[0m\u001b[0mis_tensor\u001b[0m\u001b[0;34m(\u001b[0m\u001b[0mx\u001b[0m\u001b[0;34m)\u001b[0m \u001b[0;32mfor\u001b[0m \u001b[0mx\u001b[0m \u001b[0;32min\u001b[0m \u001b[0minputs\u001b[0m\u001b[0;34m)\u001b[0m\u001b[0;34m:\u001b[0m\u001b[0;34m\u001b[0m\u001b[0m\n",
      "\u001b[0;32m/usr/local/lib/python3.6/site-packages/keras/backend/tensorflow_backend.py\u001b[0m in \u001b[0;36m_call\u001b[0;34m(self, inputs)\u001b[0m\n\u001b[1;32m   2612\u001b[0m                 array_vals.append(\n\u001b[1;32m   2613\u001b[0m                     np.asarray(value,\n\u001b[0;32m-> 2614\u001b[0;31m                                dtype=tensor.dtype.base_dtype.name))\n\u001b[0m\u001b[1;32m   2615\u001b[0m         \u001b[0;32mif\u001b[0m \u001b[0mself\u001b[0m\u001b[0;34m.\u001b[0m\u001b[0mfeed_dict\u001b[0m\u001b[0;34m:\u001b[0m\u001b[0;34m\u001b[0m\u001b[0m\n\u001b[1;32m   2616\u001b[0m             \u001b[0;32mfor\u001b[0m \u001b[0mkey\u001b[0m \u001b[0;32min\u001b[0m \u001b[0msorted\u001b[0m\u001b[0;34m(\u001b[0m\u001b[0mself\u001b[0m\u001b[0;34m.\u001b[0m\u001b[0mfeed_dict\u001b[0m\u001b[0;34m.\u001b[0m\u001b[0mkeys\u001b[0m\u001b[0;34m(\u001b[0m\u001b[0;34m)\u001b[0m\u001b[0;34m)\u001b[0m\u001b[0;34m:\u001b[0m\u001b[0;34m\u001b[0m\u001b[0m\n",
      "\u001b[0;32m/usr/local/lib/python3.6/site-packages/numpy/core/numeric.py\u001b[0m in \u001b[0;36masarray\u001b[0;34m(a, dtype, order)\u001b[0m\n\u001b[1;32m    490\u001b[0m \u001b[0;34m\u001b[0m\u001b[0m\n\u001b[1;32m    491\u001b[0m     \"\"\"\n\u001b[0;32m--> 492\u001b[0;31m     \u001b[0;32mreturn\u001b[0m \u001b[0marray\u001b[0m\u001b[0;34m(\u001b[0m\u001b[0ma\u001b[0m\u001b[0;34m,\u001b[0m \u001b[0mdtype\u001b[0m\u001b[0;34m,\u001b[0m \u001b[0mcopy\u001b[0m\u001b[0;34m=\u001b[0m\u001b[0;32mFalse\u001b[0m\u001b[0;34m,\u001b[0m \u001b[0morder\u001b[0m\u001b[0;34m=\u001b[0m\u001b[0morder\u001b[0m\u001b[0;34m)\u001b[0m\u001b[0;34m\u001b[0m\u001b[0m\n\u001b[0m\u001b[1;32m    493\u001b[0m \u001b[0;34m\u001b[0m\u001b[0m\n\u001b[1;32m    494\u001b[0m \u001b[0;34m\u001b[0m\u001b[0m\n",
      "\u001b[0;31mKeyboardInterrupt\u001b[0m: "
     ]
    }
   ],
   "source": [
    "model = build_model()\n",
    "with tf.device('/gpu:0'):\n",
    "    history = model.fit(x_train, y_train, validation_data= (x_test, y_test), epochs = 60, batch_size = 512, callbacks=[true_metrics], class_weight=class_weights)"
   ]
  },
  {
   "cell_type": "code",
   "execution_count": 36,
   "metadata": {
    "scrolled": true
   },
   "outputs": [
    {
     "name": "stdout",
     "output_type": "stream",
     "text": [
      "Epoch 1/40\n",
      "7806/7806 [==============================] - 1s 160us/step - loss: 0.5983 - acc: 0.7152\n",
      "Epoch 2/40\n",
      "7806/7806 [==============================] - 1s 105us/step - loss: 0.5246 - acc: 0.7667\n",
      "Epoch 3/40\n",
      "7806/7806 [==============================] - 1s 106us/step - loss: 0.4787 - acc: 0.7938\n",
      "Epoch 4/40\n",
      "7806/7806 [==============================] - 1s 105us/step - loss: 0.4429 - acc: 0.8182\n",
      "Epoch 5/40\n",
      "7806/7806 [==============================] - 1s 106us/step - loss: 0.4142 - acc: 0.8349\n",
      "Epoch 6/40\n",
      "7806/7806 [==============================] - 1s 106us/step - loss: 0.3937 - acc: 0.8488\n",
      "Epoch 7/40\n",
      "7806/7806 [==============================] - 1s 106us/step - loss: 0.3727 - acc: 0.8652\n",
      "Epoch 8/40\n",
      "7806/7806 [==============================] - 1s 107us/step - loss: 0.3539 - acc: 0.8795\n",
      "Epoch 9/40\n",
      "7806/7806 [==============================] - 1s 106us/step - loss: 0.3398 - acc: 0.8884\n",
      "Epoch 10/40\n",
      "7806/7806 [==============================] - 1s 105us/step - loss: 0.3265 - acc: 0.8986\n",
      "Epoch 11/40\n",
      "7806/7806 [==============================] - 1s 106us/step - loss: 0.3197 - acc: 0.9048\n",
      "Epoch 12/40\n",
      "7806/7806 [==============================] - 1s 105us/step - loss: 0.3056 - acc: 0.9136\n",
      "Epoch 13/40\n",
      "7806/7806 [==============================] - 1s 105us/step - loss: 0.3018 - acc: 0.9160\n",
      "Epoch 14/40\n",
      "7806/7806 [==============================] - 1s 105us/step - loss: 0.2883 - acc: 0.9254\n",
      "Epoch 15/40\n",
      "7806/7806 [==============================] - 1s 104us/step - loss: 0.2862 - acc: 0.9258\n",
      "Epoch 16/40\n",
      "7806/7806 [==============================] - 1s 105us/step - loss: 0.2746 - acc: 0.9335\n",
      "Epoch 17/40\n",
      "7806/7806 [==============================] - 1s 104us/step - loss: 0.2717 - acc: 0.9357\n",
      "Epoch 18/40\n",
      "7806/7806 [==============================] - 1s 104us/step - loss: 0.2708 - acc: 0.9329\n",
      "Epoch 19/40\n",
      "7806/7806 [==============================] - 1s 105us/step - loss: 0.2634 - acc: 0.9399\n",
      "Epoch 20/40\n",
      "7806/7806 [==============================] - 1s 107us/step - loss: 0.2592 - acc: 0.9408\n",
      "Epoch 21/40\n",
      "7806/7806 [==============================] - 1s 104us/step - loss: 0.2561 - acc: 0.9434\n",
      "Epoch 22/40\n",
      "7806/7806 [==============================] - 1s 104us/step - loss: 0.2524 - acc: 0.9446\n",
      "Epoch 23/40\n",
      "7806/7806 [==============================] - 1s 105us/step - loss: 0.2476 - acc: 0.9487\n",
      "Epoch 24/40\n",
      "7806/7806 [==============================] - 1s 105us/step - loss: 0.2434 - acc: 0.9489\n",
      "Epoch 25/40\n",
      "7806/7806 [==============================] - 1s 105us/step - loss: 0.2425 - acc: 0.9488\n",
      "Epoch 26/40\n",
      "7806/7806 [==============================] - 1s 105us/step - loss: 0.2367 - acc: 0.9530\n",
      "Epoch 27/40\n",
      "7806/7806 [==============================] - 1s 107us/step - loss: 0.2346 - acc: 0.9536\n",
      "Epoch 28/40\n",
      "7806/7806 [==============================] - 1s 107us/step - loss: 0.2347 - acc: 0.9539\n",
      "Epoch 29/40\n",
      "7806/7806 [==============================] - 1s 105us/step - loss: 0.2315 - acc: 0.9556\n",
      "Epoch 30/40\n",
      "7806/7806 [==============================] - 1s 104us/step - loss: 0.2257 - acc: 0.9585\n",
      "Epoch 31/40\n",
      "7806/7806 [==============================] - 1s 105us/step - loss: 0.2270 - acc: 0.9575\n",
      "Epoch 32/40\n",
      "7806/7806 [==============================] - 1s 105us/step - loss: 0.2238 - acc: 0.9579\n",
      "Epoch 33/40\n",
      "7806/7806 [==============================] - 1s 105us/step - loss: 0.2230 - acc: 0.9591\n",
      "Epoch 34/40\n",
      "7806/7806 [==============================] - 1s 105us/step - loss: 0.2177 - acc: 0.9623\n",
      "Epoch 35/40\n",
      "7806/7806 [==============================] - 1s 106us/step - loss: 0.2206 - acc: 0.9587\n",
      "Epoch 36/40\n",
      "7806/7806 [==============================] - 1s 105us/step - loss: 0.2185 - acc: 0.9610\n",
      "Epoch 37/40\n",
      "7806/7806 [==============================] - 1s 105us/step - loss: 0.2162 - acc: 0.9617\n",
      "Epoch 38/40\n",
      "7806/7806 [==============================] - 1s 107us/step - loss: 0.2137 - acc: 0.9642\n",
      "Epoch 39/40\n",
      "7806/7806 [==============================] - 1s 107us/step - loss: 0.2136 - acc: 0.9629\n",
      "Epoch 40/40\n",
      "7806/7806 [==============================] - 1s 107us/step - loss: 0.2111 - acc: 0.9650\n",
      "869/869 [==============================] - 0s 177us/step\n"
     ]
    },
    {
     "data": {
      "text/plain": [
       "[1.0007600497595872, 0.7410817029698397]"
      ]
     },
     "execution_count": 36,
     "metadata": {},
     "output_type": "execute_result"
    }
   ],
   "source": [
    "model = build_model()\n",
    "with tf.device('/gpu:0'):\n",
    "    model.fit(x_train, y_train, epochs = 40, batch_size = 128, class_weight=class_weights)\n",
    "    y_pred = model.predict(x_test)\n",
    "    results = model.evaluate(x_test, y_test)\n",
    "results"
   ]
  },
  {
   "cell_type": "code",
   "execution_count": 37,
   "metadata": {},
   "outputs": [
    {
     "name": "stdout",
     "output_type": "stream",
     "text": [
      "Normalized confusion matrix\n"
     ]
    },
    {
     "data": {
      "image/png": "[encoded data removed]",
      "text/plain": [
       "<Figure size 1080x720 with 2 Axes>"
      ]
     },
     "metadata": {},
     "output_type": "display_data"
    },
    {
     "name": "stdout",
     "output_type": "stream",
     "text": [
      "Normalized confusion matrix\n"
     ]
    },
    {
     "data": {
      "text/plain": [
       "<Figure size 432x288 with 0 Axes>"
      ]
     },
     "metadata": {},
     "output_type": "display_data"
    },
    {
     "data": {
      "image/png": "[encoded data removed]",
      "text/plain": [
       "<Figure size 360x360 with 2 Axes>"
      ]
     },
     "metadata": {},
     "output_type": "display_data"
    },
    {
     "name": "stdout",
     "output_type": "stream",
     "text": [
      "Normalized confusion matrix\n"
     ]
    },
    {
     "data": {
      "text/plain": [
       "<Figure size 432x288 with 0 Axes>"
      ]
     },
     "metadata": {},
     "output_type": "display_data"
    },
    {
     "data": {
      "image/png": "[encoded data removed]",
      "text/plain": [
       "<Figure size 360x360 with 2 Axes>"
      ]
     },
     "metadata": {},
     "output_type": "display_data"
    },
    {
     "name": "stdout",
     "output_type": "stream",
     "text": [
      "Normalized confusion matrix\n"
     ]
    },
    {
     "data": {
      "text/plain": [
       "<Figure size 432x288 with 0 Axes>"
      ]
     },
     "metadata": {},
     "output_type": "display_data"
    },
    {
     "data": {
      "image/png": "[encoded data removed]",
      "text/plain": [
       "<Figure size 360x360 with 2 Axes>"
      ]
     },
     "metadata": {},
     "output_type": "display_data"
    },
    {
     "name": "stdout",
     "output_type": "stream",
     "text": [
      "Normalized confusion matrix\n"
     ]
    },
    {
     "data": {
      "text/plain": [
       "<Figure size 432x288 with 0 Axes>"
      ]
     },
     "metadata": {},
     "output_type": "display_data"
    },
    {
     "data": {
      "image/png": "[encoded data removed]",
      "text/plain": [
       "<Figure size 360x360 with 2 Axes>"
      ]
     },
     "metadata": {},
     "output_type": "display_data"
    }
   ],
   "source": [
    "from sklearn.metrics import confusion_matrix\n",
    "import matplotlib.pyplot as plt\n",
    "import itertools\n",
    "import datetime\n",
    "\n",
    "now = datetime.datetime.now()\n",
    "pictures = []\n",
    "folder = \"FF\"\n",
    "\n",
    "def byte_to_mbti(byte):\n",
    "    binary = ''\n",
    "    for letter in byte:\n",
    "         binary +=(str(int(letter)))        \n",
    "    return type_dictionary[binary]\n",
    "\n",
    "decoded_y_true = [byte_to_mbti(label) for label in y_test.round()]\n",
    "decoded_y_pred = [byte_to_mbti(label) for label in y_pred.round()]\n",
    "\n",
    "matrix = confusion_matrix(decoded_y_true, decoded_y_pred, labels=type_labels)\n",
    "matrix_I_E = confusion_matrix(y_test[:,0], y_pred[:,0].round(), labels=[0, 1])\n",
    "matrix_N_S = confusion_matrix(y_test[:,1], y_pred[:,1].round(), labels=[0, 1])\n",
    "matrix_T_F = confusion_matrix(y_test[:,2], y_pred[:,2].round(), labels=[0, 1])\n",
    "matrix_J_P = confusion_matrix(y_test[:,3], y_pred[:,3].round(), labels=[0, 1])\n",
    "\n",
    "def plot_confusion_matrix(cm, classes,\n",
    "                          normalize=False,\n",
    "                          title='Confusion matrix',\n",
    "                          cmap=plt.cm.Blues):\n",
    "    \"\"\"\n",
    "    This function prints and plots the confusion matrix.\n",
    "    Normalization can be applied by setting `normalize=True`.\n",
    "    \"\"\"\n",
    "    if normalize:\n",
    "        cm = cm.astype('float') / cm.sum(axis=1)[:, np.newaxis]\n",
    "        print(\"Normalized confusion matrix\")\n",
    "    else:\n",
    "        print('Confusion matrix, without normalization')\n",
    "\n",
    "    plt.imshow(cm, interpolation='nearest', cmap=cmap)\n",
    "    plt.title(title)\n",
    "    plt.colorbar()\n",
    "    tick_marks = np.arange(len(classes))\n",
    "    plt.xticks(tick_marks, classes, rotation=45)\n",
    "    plt.yticks(tick_marks, classes)\n",
    "\n",
    "    fmt = '.2f' if normalize else 'd'\n",
    "    thresh = cm.max() / 2.\n",
    "    for i, j in itertools.product(range(cm.shape[0]), range(cm.shape[1])):\n",
    "        plt.text(j, i, format(cm[i, j], fmt),\n",
    "                 horizontalalignment=\"center\",\n",
    "                 color=\"white\" if cm[i, j] > thresh else \"black\")\n",
    "\n",
    "    plt.tight_layout()\n",
    "    plt.ylabel('True label')\n",
    "    plt.xlabel('Predicted label')\n",
    "    \n",
    "plt.figure(figsize=(15,10))\n",
    "plot_confusion_matrix(matrix, classes=type_labels, normalize=True,\n",
    "                      title='Confusion matrix')\n",
    "name = str(folder) + \"/\" + str(now.month) + \"-\" + str(now.day) + \"-\" + \\\n",
    "str(now.hour) + \"-\" + str(now.minute) + \"_\" + \"CM0.png\"\n",
    "plt.savefig(name)\n",
    "plt.show()\n",
    "pictures.append(name)\n",
    "\n",
    "plt.clf()\n",
    "plt.figure(figsize=(5,5))\n",
    "plot_confusion_matrix(matrix_I_E, classes=[\"I\", \"E\"], normalize=True,\n",
    "                      title='I-E Confusion matrix')\n",
    "name = str(folder) + \"/\" + str(now.month) + \"-\" + str(now.day) + \"-\" + \\\n",
    "str(now.hour) + \"-\" + str(now.minute) + \"_\" + \"CM1.png\"\n",
    "plt.savefig(name)\n",
    "plt.show()\n",
    "pictures.append(name)\n",
    "\n",
    "plt.clf()\n",
    "plt.figure(figsize=(5,5))\n",
    "plot_confusion_matrix(matrix_N_S, classes=[\"N\", \"S\"], normalize=True,\n",
    "                      title='N-S Confusion matrix')\n",
    "name = str(folder) + \"/\" + str(now.month) + \"-\" + str(now.day) + \"-\" + \\\n",
    "str(now.hour) + \"-\" + str(now.minute) + \"_\" + \"CM2.png\"\n",
    "plt.savefig(name)\n",
    "plt.show()\n",
    "pictures.append(name)\n",
    "\n",
    "plt.clf()\n",
    "plt.figure(figsize=(5,5))\n",
    "plot_confusion_matrix(matrix_T_F, classes=[\"T\", \"F\"], normalize=True,\n",
    "                      title='T-F Confusion matrix')\n",
    "name = str(folder) + \"/\" + str(now.month) + \"-\" + str(now.day) + \"-\" + \\\n",
    "str(now.hour) + \"-\" + str(now.minute) + \"_\" + \"CM3.png\"\n",
    "plt.savefig(name)\n",
    "plt.show()\n",
    "pictures.append(name)\n",
    "\n",
    "plt.clf()\n",
    "plt.figure(figsize=(5,5))\n",
    "plot_confusion_matrix(matrix_J_P, classes=[\"J\", \"P\"], normalize=True,\n",
    "                      title='J-P Confusion matrix')\n",
    "name = str(folder) + \"/\" + str(now.month) + \"-\" + str(now.day) + \"-\" + \\\n",
    "str(now.hour) + \"-\" + str(now.minute) + \"_\" + \"CM4.png\"\n",
    "plt.savefig(name)\n",
    "plt.show()\n",
    "pictures.append(name)"
   ]
  },
  {
   "cell_type": "code",
   "execution_count": null,
   "metadata": {},
   "outputs": [],
   "source": [
    "acc = 0\n",
    "for i in range(0, len(y_test)):\n",
    "    if (y_pred[i].round().tolist() == y_test[i].tolist()):\n",
    "        acc +=1\n",
    "        \n",
    "acc/len(y_test)"
   ]
  },
  {
   "cell_type": "raw",
   "metadata": {},
   "source": [
    "model = build_model()\n",
    "with tf.device('/gpu:0'):\n",
    "    history = model.fit(x_train, y_train, epochs = 30, batch_size = 256, validation_split=0.1,  class_weight=class_weights)"
   ]
  },
  {
   "cell_type": "code",
   "execution_count": null,
   "metadata": {},
   "outputs": [],
   "source": [
    "import matplotlib.pyplot as plt\n",
    "\n",
    "history_dict = history.history\n",
    "train_loss = history_dict['loss']\n",
    "val_loss = history_dict['val_loss']\n",
    "\n",
    "train_acc = history_dict['acc']\n",
    "val_acc   = history_dict['val_acc']\n",
    "\n",
    "epochs = range(1, len(history_dict['acc']) + 1)\n",
    "\n",
    "plt.plot(epochs, train_loss, 'bo', label='Training loss')\n",
    "plt.plot(epochs, val_loss, 'b', label='Validation loss')\n",
    "plt.title('Training and validation loss')\n",
    "plt.xlabel('Epochs')\n",
    "plt.ylabel('Loss')\n",
    "plt.legend()\n",
    "\n",
    "plt.show()\n",
    "\n",
    "plt.clf()\n",
    "\n",
    "plt.plot(epochs, train_acc, 'bo', label='Training Accuracy')\n",
    "plt.plot(epochs, val_acc, 'b', label='Validation Accuracy')\n",
    "plt.title('Training and validation Accuracy')\n",
    "plt.xlabel('Epochs')\n",
    "plt.ylabel('Accuracy')\n",
    "plt.legend()\n",
    "\n",
    "plt.show()"
   ]
  },
  {
   "cell_type": "raw",
   "metadata": {},
   "source": [
    "#K-Fold Validation\n",
    "k = 4\n",
    "\n",
    "# // is floor div operator\n",
    "num_val_samples = len(x_train) // k\n",
    "\n",
    "k_val_loss = []\n",
    "k_val_acc = []\n",
    "\n",
    "for num_epochs in range(1, 20):\n",
    "    print(\"Epoch:\",num_epochs)\n",
    "    loss = []\n",
    "    acc = []\n",
    "    for i in range(k):\n",
    "        val_data = x_train[i * num_val_samples: (i + 1) * num_val_samples]\n",
    "        val_targets = y_train[i * num_val_samples: (i + 1) * num_val_samples]\n",
    "\n",
    "        partial_train_data = np.concatenate(\n",
    "            [x_train[:i * num_val_samples],\n",
    "             x_train[(i + 1) * num_val_samples:]],\n",
    "            axis=0)\n",
    "        partial_train_targets = np.concatenate(\n",
    "            [y_train[:i * num_val_samples],\n",
    "             y_train[(i + 1) * num_val_samples:]],\n",
    "            axis=0)\n",
    "\n",
    "        model = build_model()\n",
    "        with tf.device('/gpu:0'):\n",
    "            model.fit(partial_train_data, partial_train_targets,\n",
    "                epochs=num_epochs, batch_size=128,verbose = 0)\n",
    "\n",
    "            val_loss, val_acc = model.evaluate(val_data, val_targets, verbose = 0)\n",
    "\n",
    "        loss.append(val_loss)\n",
    "        acc.append(val_acc)\n",
    "        \n",
    "        del model\n",
    "        \n",
    "    k_val_loss.append(np.mean(loss))\n",
    "    k_val_acc.append(np.mean(acc))\n",
    "    print(str(k_val_loss[num_epochs - 1]), str(k_val_acc[num_epochs - 1]))"
   ]
  },
  {
   "cell_type": "raw",
   "metadata": {},
   "source": [
    "import matplotlib.pyplot as plt\n",
    "\n",
    "epochs = range(1, 21)\n",
    "\n",
    "plt.clf()\n",
    "\n",
    "plt.plot(epochs, k_val_acc, 'b', label='Validation Accuracy')\n",
    "plt.title('Validation Accuracy')\n",
    "plt.xlabel('Epochs')\n",
    "plt.ylabel('Accuracy')\n",
    "plt.legend()\n",
    "\n",
    "plt.show()\n",
    "\n",
    "plt.clf()\n",
    "\n",
    "\n",
    "plt.plot(epochs, k_val_loss, 'bo', label='Validation loss')\n",
    "plt.title('Validation loss')\n",
    "plt.xlabel('Epochs')\n",
    "plt.ylabel('Loss')\n",
    "plt.legend()\n",
    "\n",
    "plt.show()"
   ]
  },
  {
   "cell_type": "code",
   "execution_count": null,
   "metadata": {},
   "outputs": [],
   "source": [
    "def myprint(s):\n",
    "    with open('results.log','a+') as f:\n",
    "        print(s, file=f)\n",
    "    f.close()\n",
    "        \n",
    "log_file = open('results.log', 'a+')\n",
    "\n",
    "log_file.write(\"\\n=================================================================\")\n",
    "log_file.write( \"\\n\" + str(now.month) + \"/\" + str(now.day) + \"/\" + str(now.year) + \" \" + \\\n",
    "str(now.hour) + \":\" + str(now.minute) + \":\" + str(now.second) + \"\\n\")\n",
    "\n",
    "log_file.close()\n",
    "\n",
    "model.summary(print_fn=myprint)\n",
    "\n",
    "log_file = open('results.log', 'a+')\n",
    "\n",
    "log_file.write(\"Results:\\t\" + str(results) + \"\\n\")\n",
    "\n",
    "log_file.write(\"Images:\\n\")\n",
    "log_file.write(\"\\t\" + pictures[0] + \"\\n\")\n",
    "log_file.write(\"\\t\" + pictures[1] + \"\\n\")\n",
    "log_file.write(\"\\t\" + pictures[2] + \"\\n\")\n",
    "log_file.write(\"\\t\" + pictures[3] + \"\\n\")\n",
    "log_file.write(\"\\t\" + pictures[4] + \"\\n\")\n",
    "\n",
    "log_file.close()"
   ]
  },
  {
   "cell_type": "code",
   "execution_count": null,
   "metadata": {},
   "outputs": [],
   "source": []
  }
 ],
 "metadata": {
  "kernelspec": {
   "display_name": "URE18",
   "language": "python",
   "name": "ure18"
  },
  "language_info": {
   "codemirror_mode": {
    "name": "ipython",
    "version": 3
   },
   "file_extension": ".py",
   "mimetype": "text/x-python",
   "name": "python",
   "nbconvert_exporter": "python",
   "pygments_lexer": "ipython3",
   "version": "3.6.5"
  }
 },
 "nbformat": 4,
 "nbformat_minor": 2
}
