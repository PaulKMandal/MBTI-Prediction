{
 "cells": [
  {
   "cell_type": "code",
   "execution_count": 80,
   "metadata": {},
   "outputs": [],
   "source": [
    "import json\n",
    "import re\n",
    "import nltk"
   ]
  },
  {
   "cell_type": "code",
   "execution_count": 81,
   "metadata": {},
   "outputs": [],
   "source": [
    "# This file contains 8600ish users Data\n",
    "# In the form: {'MBTI Type', 'Social Media Posts'}\n",
    "dataFile = open('formatted_data.json', 'r')"
   ]
  },
  {
   "cell_type": "code",
   "execution_count": 82,
   "metadata": {},
   "outputs": [],
   "source": [
    "data = []"
   ]
  },
  {
   "cell_type": "code",
   "execution_count": 83,
   "metadata": {},
   "outputs": [],
   "source": [
    "# loading the json data into a list\n",
    "for line in dataFile:\n",
    "    data.append(json.loads(line))"
   ]
  },
  {
   "cell_type": "code",
   "execution_count": 84,
   "metadata": {},
   "outputs": [],
   "source": [
    "types = []\n",
    "posts = []"
   ]
  },
  {
   "cell_type": "code",
   "execution_count": 85,
   "metadata": {},
   "outputs": [],
   "source": [
    "# Separating data into 2 separate lists for preprocessing\n",
    "# For the most part we process the 'post' data\n",
    "# we skip the first element as that is only the label\n",
    "for i in range(1, len(data)):\n",
    "    types.append(data[i]['Type'])\n",
    "    posts.append(data[i]['Post'])"
   ]
  },
  {
   "cell_type": "code",
   "execution_count": 86,
   "metadata": {},
   "outputs": [],
   "source": [
    "# List shuffling to make sure our models are valid\n",
    "# Commented out for debugging purposes\n",
    "# import random\n",
    "# SEED = 673\n",
    "\n",
    "# random.seed(SEED)\n",
    "# random.shuffle(types)\n",
    "# random.shuffle(posts)"
   ]
  },
  {
   "cell_type": "code",
   "execution_count": 87,
   "metadata": {},
   "outputs": [],
   "source": [
    "# Turning the posts from: 'post1|||post2|||post3'\n",
    "#                     to: ['post1', 'post2', 'post3']\n",
    "# expects a list of posts as strings\n",
    "# returns a list of lists of posts\n",
    "def vectorize_post_data(posts):\n",
    "    for index in range(0, len(posts)):\n",
    "        posts[index] = posts[index].split(\"|||\")\n",
    "        \n",
    "    return posts\n",
    "        \n",
    "posts = vectorize_post_data(posts)"
   ]
  },
  {
   "cell_type": "code",
   "execution_count": 88,
   "metadata": {},
   "outputs": [],
   "source": [
    "def remove_hyperTextLinksFromPosts(posts):\n",
    "    for index in range(0, len(posts)):\n",
    "        usable_post = [post for post in posts[index] if not re.search(r'^(.)*http(.)*$', post)]\n",
    "        posts[index] = usable_post\n",
    "    \n",
    "    return posts\n",
    "        \n",
    "posts = remove_hyperTextLinksFromPosts(posts)"
   ]
  },
  {
   "cell_type": "code",
   "execution_count": 89,
   "metadata": {},
   "outputs": [],
   "source": [
    "def remove_MBTIClassifiersFromPosts(posts):\n",
    "    MBTI_regex = r'[\\w]*(i|e)(s|n)(f|t)(p|j)[\\w]*'\n",
    "    for i in range(0, len(posts)):\n",
    "        for j in range(0, len(posts[i])):\n",
    "            posts[i][j] = re.sub(MBTI_regex, ' ', posts[i][j], flags=re.IGNORECASE)\n",
    "        \n",
    "    return posts\n",
    "    \n",
    "posts = remove_MBTIClassifiersFromPosts(posts)"
   ]
  },
  {
   "cell_type": "code",
   "execution_count": 90,
   "metadata": {},
   "outputs": [],
   "source": [
    "from nltk.tokenize import RegexpTokenizer\n",
    "\n",
    "def isInt(s):\n",
    "    try: \n",
    "        int(s)\n",
    "        return True\n",
    "    except ValueError:\n",
    "        return False\n",
    "\n",
    "def tokenize_posts(posts):\n",
    "    tokenizer = RegexpTokenizer(r'\\w+')\n",
    "    \n",
    "    for i in range(0, len(posts)):\n",
    "        user_words = []\n",
    "        for j in range(0, len(posts[i])):\n",
    "            post = tokenizer.tokenize(posts[i][j])\n",
    "            for word in post:\n",
    "                if not isInt(word):\n",
    "                    user_words.append(word.lower())\n",
    "        posts[i] = user_words\n",
    "    \n",
    "    return posts\n",
    "\n",
    "posts = tokenize_posts(posts)"
   ]
  },
  {
   "cell_type": "code",
   "execution_count": 91,
   "metadata": {},
   "outputs": [],
   "source": [
    "all_words_list = []\n",
    "\n",
    "for user in posts:\n",
    "    for word in user:\n",
    "        all_words_list.append(word)\n"
   ]
  },
  {
   "cell_type": "code",
   "execution_count": 92,
   "metadata": {},
   "outputs": [],
   "source": [
    "from collections import Counter"
   ]
  },
  {
   "cell_type": "code",
   "execution_count": 93,
   "metadata": {},
   "outputs": [],
   "source": [
    "freq_list = Counter(all_words_list)\n",
    "dictionary = freq_list.most_common(10000)"
   ]
  },
  {
   "cell_type": "code",
   "execution_count": 94,
   "metadata": {},
   "outputs": [],
   "source": [
    "dictionary = list(zip(*dictionary))[0]"
   ]
  },
  {
   "cell_type": "code",
   "execution_count": 95,
   "metadata": {},
   "outputs": [],
   "source": [
    "nums = range(0, 10000)\n",
    "word_int = dict(zip(dictionary, nums))"
   ]
  },
  {
   "cell_type": "code",
   "execution_count": 96,
   "metadata": {},
   "outputs": [],
   "source": [
    "x_vals = []\n",
    "\n",
    "for user in posts:\n",
    "    x_vals.append([word_int[x] for x in user if x in word_int.keys()])"
   ]
  },
  {
   "cell_type": "code",
   "execution_count": 112,
   "metadata": {},
   "outputs": [],
   "source": [
    "intro_extro = [word[0:1] for word in types[0:len(types)]]\n",
    "bin_intro_extro = []\n",
    "for letter in intro_extro:\n",
    "    if (letter == 'I'):\n",
    "        bin_intro_extro.append(0)\n",
    "    else:\n",
    "        bin_intro_extro.append(1)"
   ]
  },
  {
   "cell_type": "code",
   "execution_count": 114,
   "metadata": {},
   "outputs": [],
   "source": [
    "import numpy as np\n",
    "x = np.array(x_vals)\n",
    "test_data = x[:1500]\n",
    "train_data = x[1500:]\n",
    "\n",
    "def vectorize_sequences(sequences, dimension=10000):\n",
    "    results = np.zeros((len(sequences), dimension))\n",
    "    for i, sequence in enumerate(sequences):\n",
    "        results[i, sequence] = 1.\n",
    "    return results\n",
    "\n",
    "x_train = vectorize_sequences(train_data)\n",
    "x_test = vectorize_sequences(test_data)"
   ]
  },
  {
   "cell_type": "code",
   "execution_count": 115,
   "metadata": {},
   "outputs": [],
   "source": [
    "from keras.utils.np_utils import to_categorical\n",
    "\n",
    "y = np.asarray(bin_intro_extro).astype('float32')\n",
    "y_test = y[:1500]\n",
    "y_train = y[1500:]"
   ]
  },
  {
   "cell_type": "code",
   "execution_count": 116,
   "metadata": {},
   "outputs": [],
   "source": [
    "x_val = x_train[:1500]\n",
    "x_partial_train = x_train[1500:]\n",
    "\n",
    "y_val = y_train[:1500]\n",
    "y_partial_train = y_train[1500:]"
   ]
  },
  {
   "cell_type": "code",
   "execution_count": 117,
   "metadata": {},
   "outputs": [],
   "source": [
    "from keras import models\n",
    "from keras import layers\n",
    "\n",
    "model = models.Sequential()\n",
    "model.add(layers.Dense(32, activation='relu', input_shape = (10000,)))\n",
    "model.add(layers.Dense(32, activation='relu'))\n",
    "model.add(layers.Dense(1, activation='sigmoid'))\n",
    "\n",
    "model.compile(optimizer = 'rmsprop', loss = 'binary_crossentropy', metrics = ['accuracy'])"
   ]
  },
  {
   "cell_type": "code",
   "execution_count": 118,
   "metadata": {},
   "outputs": [
    {
     "name": "stdout",
     "output_type": "stream",
     "text": [
      "Train on 5675 samples, validate on 1500 samples\n",
      "Epoch 1/20\n",
      "5675/5675 [==============================] - 1s 163us/step - loss: 0.5585 - acc: 0.7586 - val_loss: 0.5525 - val_acc: 0.7580\n",
      "Epoch 2/20\n",
      "5675/5675 [==============================] - 1s 96us/step - loss: 0.5004 - acc: 0.7718 - val_loss: 0.5346 - val_acc: 0.7580\n",
      "Epoch 3/20\n",
      "5675/5675 [==============================] - 1s 98us/step - loss: 0.4357 - acc: 0.7741 - val_loss: 0.5730 - val_acc: 0.7580\n",
      "Epoch 4/20\n",
      "5675/5675 [==============================] - 1s 97us/step - loss: 0.4092 - acc: 0.8137 - val_loss: 0.4911 - val_acc: 0.7700\n",
      "Epoch 5/20\n",
      "5675/5675 [==============================] - 1s 97us/step - loss: 0.3648 - acc: 0.8448 - val_loss: 0.5091 - val_acc: 0.7573\n",
      "Epoch 6/20\n",
      "5675/5675 [==============================] - 1s 98us/step - loss: 0.3215 - acc: 0.8742 - val_loss: 0.4990 - val_acc: 0.7747\n",
      "Epoch 7/20\n",
      "5675/5675 [==============================] - 1s 97us/step - loss: 0.2915 - acc: 0.8867 - val_loss: 0.4975 - val_acc: 0.7587\n",
      "Epoch 8/20\n",
      "5675/5675 [==============================] - 1s 98us/step - loss: 0.2760 - acc: 0.8948 - val_loss: 0.6357 - val_acc: 0.7680\n",
      "Epoch 9/20\n",
      "5675/5675 [==============================] - 1s 98us/step - loss: 0.2172 - acc: 0.9253 - val_loss: 0.5014 - val_acc: 0.7800\n",
      "Epoch 10/20\n",
      "5675/5675 [==============================] - 1s 98us/step - loss: 0.2130 - acc: 0.9249 - val_loss: 0.5704 - val_acc: 0.7753\n",
      "Epoch 11/20\n",
      "5675/5675 [==============================] - 1s 98us/step - loss: 0.2082 - acc: 0.9188 - val_loss: 0.5736 - val_acc: 0.7747\n",
      "Epoch 12/20\n",
      "5675/5675 [==============================] - 1s 99us/step - loss: 0.1395 - acc: 0.9697 - val_loss: 0.6484 - val_acc: 0.7767\n",
      "Epoch 13/20\n",
      "5675/5675 [==============================] - 1s 100us/step - loss: 0.1282 - acc: 0.9670 - val_loss: 0.9220 - val_acc: 0.7713\n",
      "Epoch 14/20\n",
      "5675/5675 [==============================] - 1s 128us/step - loss: 0.1141 - acc: 0.9723 - val_loss: 0.6616 - val_acc: 0.7793\n",
      "Epoch 15/20\n",
      "5675/5675 [==============================] - 1s 99us/step - loss: 0.1139 - acc: 0.9653 - val_loss: 0.6758 - val_acc: 0.7820\n",
      "Epoch 16/20\n",
      "5675/5675 [==============================] - 1s 103us/step - loss: 0.1194 - acc: 0.9637 - val_loss: 0.6340 - val_acc: 0.7760\n",
      "Epoch 17/20\n",
      "5675/5675 [==============================] - 1s 102us/step - loss: 0.0500 - acc: 0.9989 - val_loss: 0.7713 - val_acc: 0.6453\n",
      "Epoch 18/20\n",
      "5675/5675 [==============================] - 1s 100us/step - loss: 0.1060 - acc: 0.9674 - val_loss: 0.6309 - val_acc: 0.7567\n",
      "Epoch 19/20\n",
      "5675/5675 [==============================] - 1s 102us/step - loss: 0.0377 - acc: 0.9991 - val_loss: 1.0485 - val_acc: 0.7767\n",
      "Epoch 20/20\n",
      "5675/5675 [==============================] - 1s 100us/step - loss: 0.1098 - acc: 0.9577 - val_loss: 0.8014 - val_acc: 0.7793\n"
     ]
    }
   ],
   "source": [
    "history = model.fit(x_partial_train, y_partial_train, epochs = 20, batch_size = 512, validation_data=(x_val, y_val))"
   ]
  },
  {
   "cell_type": "code",
   "execution_count": 119,
   "metadata": {},
   "outputs": [
    {
     "name": "stdout",
     "output_type": "stream",
     "text": [
      "1500/1500 [==============================] - 0s 88us/step\n"
     ]
    },
    {
     "data": {
      "text/plain": [
       "[0.7747726391951243, 0.7759999998410543]"
      ]
     },
     "execution_count": 119,
     "metadata": {},
     "output_type": "execute_result"
    }
   ],
   "source": [
    "results = model.evaluate(x_test, y_test)\n",
    "results"
   ]
  },
  {
   "cell_type": "code",
   "execution_count": 120,
   "metadata": {},
   "outputs": [],
   "source": [
    "model = models.Sequential()\n",
    "model.add(layers.Dense(32, activation='relu', input_shape = (10000,)))\n",
    "model.add(layers.Dense(32, activation='relu'))\n",
    "model.add(layers.Dense(1, activation='sigmoid'))\n",
    "\n",
    "model.compile(optimizer = 'rmsprop', loss = 'binary_crossentropy', metrics = ['accuracy'])"
   ]
  },
  {
   "cell_type": "code",
   "execution_count": 121,
   "metadata": {},
   "outputs": [
    {
     "name": "stdout",
     "output_type": "stream",
     "text": [
      "Epoch 1/13\n",
      "7175/7175 [==============================] - 1s 133us/step - loss: 0.5752 - acc: 0.7620\n",
      "Epoch 2/13\n",
      "7175/7175 [==============================] - 1s 91us/step - loss: 0.4904 - acc: 0.7689\n",
      "Epoch 3/13\n",
      "7175/7175 [==============================] - 1s 114us/step - loss: 0.4340 - acc: 0.7689\n",
      "Epoch 4/13\n",
      "7175/7175 [==============================] - 1s 93us/step - loss: 0.4114 - acc: 0.7817\n",
      "Epoch 5/13\n",
      "7175/7175 [==============================] - 1s 86us/step - loss: 0.3695 - acc: 0.8256\n",
      "Epoch 6/13\n",
      "7175/7175 [==============================] - 1s 84us/step - loss: 0.3283 - acc: 0.8636\n",
      "Epoch 7/13\n",
      "7175/7175 [==============================] - 1s 83us/step - loss: 0.3042 - acc: 0.8780\n",
      "Epoch 8/13\n",
      "7175/7175 [==============================] - 1s 83us/step - loss: 0.2549 - acc: 0.9024\n",
      "Epoch 9/13\n",
      "7175/7175 [==============================] - 1s 87us/step - loss: 0.2447 - acc: 0.9017\n",
      "Epoch 10/13\n",
      "7175/7175 [==============================] - 1s 84us/step - loss: 0.1974 - acc: 0.9292\n",
      "Epoch 11/13\n",
      "7175/7175 [==============================] - 1s 83us/step - loss: 0.1543 - acc: 0.9507\n",
      "Epoch 12/13\n",
      "7175/7175 [==============================] - 1s 86us/step - loss: 0.1836 - acc: 0.9357\n",
      "Epoch 13/13\n",
      "7175/7175 [==============================] - 1s 84us/step - loss: 0.1233 - acc: 0.9608\n"
     ]
    },
    {
     "data": {
      "text/plain": [
       "<keras.callbacks.History at 0x108517f28>"
      ]
     },
     "execution_count": 121,
     "metadata": {},
     "output_type": "execute_result"
    }
   ],
   "source": [
    "model.fit(x_train, y_train, epochs = 13, batch_size = 512)"
   ]
  },
  {
   "cell_type": "code",
   "execution_count": 122,
   "metadata": {},
   "outputs": [
    {
     "name": "stdout",
     "output_type": "stream",
     "text": [
      "1500/1500 [==============================] - 0s 125us/step\n"
     ]
    },
    {
     "data": {
      "text/plain": [
       "[0.6135375473499298, 0.7719999998410543]"
      ]
     },
     "execution_count": 122,
     "metadata": {},
     "output_type": "execute_result"
    }
   ],
   "source": [
    "results = model.evaluate(x_test, y_test)\n",
    "results"
   ]
  },
  {
   "cell_type": "code",
   "execution_count": null,
   "metadata": {},
   "outputs": [],
   "source": []
  }
 ],
 "metadata": {
  "kernelspec": {
   "display_name": "URE18",
   "language": "python",
   "name": "ure18"
  },
  "language_info": {
   "codemirror_mode": {
    "name": "ipython",
    "version": 3
   },
   "file_extension": ".py",
   "mimetype": "text/x-python",
   "name": "python",
   "nbconvert_exporter": "python",
   "pygments_lexer": "ipython3",
   "version": "3.6.5"
  }
 },
 "nbformat": 4,
 "nbformat_minor": 2
}
