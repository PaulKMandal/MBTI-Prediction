{
 "cells": [
  {
   "cell_type": "code",
   "execution_count": 1,
   "metadata": {},
   "outputs": [],
   "source": [
    "import pickle\n",
    "\n",
    "with open('undersampled_data.pkl', 'rb') as lf:\n",
    "    labels = pickle.load(lf)\n",
    "\n",
    "with open('undersampled_posts.pkl', 'rb') as pf:\n",
    "    posts = pickle.load(pf)"
   ]
  },
  {
   "cell_type": "code",
   "execution_count": 2,
   "metadata": {},
   "outputs": [
    {
     "name": "stderr",
     "output_type": "stream",
     "text": [
      "Using TensorFlow backend.\n"
     ]
    }
   ],
   "source": [
    "# Tokenizing data\n",
    "from keras.preprocessing.text import Tokenizer\n",
    "from keras.preprocessing.sequence import pad_sequences\n",
    "import numpy as np\n",
    "\n",
    "max_len = 50\n",
    "max_features = 10000\n",
    "test_samples = 1500\n",
    "max_words = 10000"
   ]
  },
  {
   "cell_type": "code",
   "execution_count": 3,
   "metadata": {},
   "outputs": [
    {
     "name": "stdout",
     "output_type": "stream",
     "text": [
      "Found 29926 unique tokens\n"
     ]
    }
   ],
   "source": [
    "tokenizer = Tokenizer(num_words=max_words)\n",
    "tokenizer.fit_on_texts(posts)\n",
    "sequences = tokenizer.texts_to_sequences(posts)\n",
    "word_index = tokenizer.word_index\n",
    "print('Found %s unique tokens' % len(word_index))"
   ]
  },
  {
   "cell_type": "code",
   "execution_count": 4,
   "metadata": {},
   "outputs": [],
   "source": [
    "data = pad_sequences(sequences, maxlen=max_len)\n",
    "labels = np.asarray(labels)"
   ]
  },
  {
   "cell_type": "code",
   "execution_count": 5,
   "metadata": {},
   "outputs": [
    {
     "name": "stdout",
     "output_type": "stream",
     "text": [
      "Shape of data tensor: (28800, 50)\n",
      "Shape of label tensor: (28800,)\n"
     ]
    }
   ],
   "source": [
    "print('Shape of data tensor:', data.shape)\n",
    "print('Shape of label tensor:', labels.shape)"
   ]
  },
  {
   "cell_type": "code",
   "execution_count": 6,
   "metadata": {},
   "outputs": [],
   "source": [
    "indices = np.arange(data.shape[0])\n",
    "np.random.shuffle(indices)\n",
    "data = data[indices]\n",
    "labels = labels[indices]"
   ]
  },
  {
   "cell_type": "code",
   "execution_count": 7,
   "metadata": {},
   "outputs": [],
   "source": [
    "type_dictionary = {\n",
    "    '0000':'INTJ',\n",
    "    '0001':'INTP',\n",
    "    '0010':'INFJ',\n",
    "    '0011':'INFP',\n",
    "    '0100':'ISTJ',\n",
    "    '0101':'ISTP',\n",
    "    '0110':'ISFJ',\n",
    "    '0111':'ISFP',\n",
    "    '1000':'ENTJ',\n",
    "    '1001':'ENTP',\n",
    "    '1010':'ENFJ',\n",
    "    '1011':'ENFP',\n",
    "    '1100':'ESTJ',\n",
    "    '1101':'ESTP',\n",
    "    '1110':'ESFJ',\n",
    "    '1111':'ESFP',\n",
    "}\n",
    "\n",
    "type_labels=['INTJ','INTP','INFJ','INFP','ISTJ','ISTP','ISFJ','ISFP', \\\n",
    "        'ENTJ','ENTP','ENFJ','ENFP','ESTJ','ESTP','ESFJ','ESFP',]\n",
    "\n",
    "one_hot_types = []\n",
    "\n",
    "for label in labels:\n",
    "    bin_type = []\n",
    "    \n",
    "    if (label[0] == 'I'):\n",
    "        bin_type.append(0)\n",
    "    else:\n",
    "        bin_type.append(1)\n",
    "        \n",
    "    if (label[1] == 'N'):\n",
    "        bin_type.append(0)\n",
    "    else:\n",
    "        bin_type.append(1)\n",
    "        \n",
    "    if (label[2] == 'T'):\n",
    "        bin_type.append(0)\n",
    "    else:\n",
    "        bin_type.append(1)\n",
    "        \n",
    "    if (label[3] == 'J'):\n",
    "        bin_type.append(0)\n",
    "    else:\n",
    "        bin_type.append(1)\n",
    "        \n",
    "    one_hot_types.append(bin_type)"
   ]
  },
  {
   "cell_type": "code",
   "execution_count": 8,
   "metadata": {},
   "outputs": [],
   "source": [
    "y = np.asarray(one_hot_types).astype('float32')\n",
    "\n",
    "x_test = data[:test_samples]\n",
    "y_test = y[:test_samples]\n",
    "\n",
    "x_train = data[test_samples:]\n",
    "y_train = y[test_samples:]"
   ]
  },
  {
   "cell_type": "code",
   "execution_count": 9,
   "metadata": {},
   "outputs": [
    {
     "name": "stdout",
     "output_type": "stream",
     "text": [
      "Train on 21840 samples, validate on 5460 samples\n",
      "Epoch 1/30\n",
      "21840/21840 [==============================] - 9s 393us/step - loss: 0.9107 - acc: 0.5001 - val_loss: 0.6978 - val_acc: 0.4959\n",
      "Epoch 2/30\n",
      "21840/21840 [==============================] - 8s 364us/step - loss: 0.6900 - acc: 0.5334 - val_loss: 0.6906 - val_acc: 0.5250\n",
      "Epoch 3/30\n",
      "21840/21840 [==============================] - 8s 368us/step - loss: 0.6844 - acc: 0.5577 - val_loss: 0.6889 - val_acc: 0.5310\n",
      "Epoch 4/30\n",
      "21840/21840 [==============================] - 8s 368us/step - loss: 0.6795 - acc: 0.5747 - val_loss: 0.6869 - val_acc: 0.5402\n",
      "Epoch 5/30\n",
      "21840/21840 [==============================] - 8s 374us/step - loss: 0.6745 - acc: 0.5904 - val_loss: 0.6850 - val_acc: 0.5474\n",
      "Epoch 6/30\n",
      "21840/21840 [==============================] - 8s 370us/step - loss: 0.6690 - acc: 0.6027 - val_loss: 0.6835 - val_acc: 0.5505\n",
      "Epoch 7/30\n",
      "21840/21840 [==============================] - 8s 372us/step - loss: 0.6632 - acc: 0.6158 - val_loss: 0.6814 - val_acc: 0.5531\n",
      "Epoch 8/30\n",
      "21840/21840 [==============================] - 8s 374us/step - loss: 0.6569 - acc: 0.6274 - val_loss: 0.6793 - val_acc: 0.5563\n",
      "Epoch 9/30\n",
      "21840/21840 [==============================] - 8s 383us/step - loss: 0.6499 - acc: 0.6400 - val_loss: 0.6766 - val_acc: 0.5613\n",
      "Epoch 10/30\n",
      "21840/21840 [==============================] - 8s 388us/step - loss: 0.6424 - acc: 0.6477 - val_loss: 0.6743 - val_acc: 0.5630\n",
      "Epoch 11/30\n",
      "21840/21840 [==============================] - 9s 423us/step - loss: 0.6341 - acc: 0.6579 - val_loss: 0.6721 - val_acc: 0.5685\n",
      "Epoch 12/30\n",
      "21840/21840 [==============================] - 9s 397us/step - loss: 0.6255 - acc: 0.6675 - val_loss: 0.6721 - val_acc: 0.5701\n",
      "Epoch 13/30\n",
      "21840/21840 [==============================] - 9s 398us/step - loss: 0.6166 - acc: 0.6771 - val_loss: 0.6738 - val_acc: 0.5724\n",
      "Epoch 14/30\n",
      "21840/21840 [==============================] - 9s 414us/step - loss: 0.6073 - acc: 0.6849 - val_loss: 0.6739 - val_acc: 0.5755\n",
      "Epoch 15/30\n",
      "21840/21840 [==============================] - 9s 421us/step - loss: 0.5974 - acc: 0.6935 - val_loss: 0.6755 - val_acc: 0.5765\n",
      "Epoch 16/30\n",
      "21840/21840 [==============================] - 9s 410us/step - loss: 0.5871 - acc: 0.7035 - val_loss: 0.6782 - val_acc: 0.5777\n",
      "Epoch 17/30\n",
      "21840/21840 [==============================] - 9s 413us/step - loss: 0.5757 - acc: 0.7109 - val_loss: 0.6865 - val_acc: 0.5800\n",
      "Epoch 18/30\n",
      "21840/21840 [==============================] - 9s 411us/step - loss: 0.5636 - acc: 0.7190 - val_loss: 0.6923 - val_acc: 0.5783\n",
      "Epoch 19/30\n",
      "21840/21840 [==============================] - 9s 417us/step - loss: 0.5508 - acc: 0.7275 - val_loss: 0.7001 - val_acc: 0.5799\n",
      "Epoch 20/30\n",
      "21840/21840 [==============================] - 9s 407us/step - loss: 0.5370 - acc: 0.7349 - val_loss: 0.7100 - val_acc: 0.5787\n",
      "Epoch 21/30\n",
      "21840/21840 [==============================] - 9s 419us/step - loss: 0.5230 - acc: 0.7434 - val_loss: 0.7348 - val_acc: 0.5768\n",
      "Epoch 22/30\n",
      "21840/21840 [==============================] - 9s 421us/step - loss: 0.5086 - acc: 0.7508 - val_loss: 0.7501 - val_acc: 0.5779\n",
      "Epoch 23/30\n",
      "21840/21840 [==============================] - 9s 425us/step - loss: 0.4942 - acc: 0.7579 - val_loss: 0.7613 - val_acc: 0.5788\n",
      "Epoch 24/30\n",
      "21840/21840 [==============================] - 10s 455us/step - loss: 0.4795 - acc: 0.7648 - val_loss: 0.7895 - val_acc: 0.5770\n",
      "Epoch 25/30\n",
      "21840/21840 [==============================] - 9s 393us/step - loss: 0.4656 - acc: 0.7727 - val_loss: 0.8090 - val_acc: 0.5744\n",
      "Epoch 26/30\n",
      "21840/21840 [==============================] - 9s 397us/step - loss: 0.4514 - acc: 0.7791 - val_loss: 0.8448 - val_acc: 0.5756\n",
      "Epoch 27/30\n",
      "21840/21840 [==============================] - 9s 403us/step - loss: 0.4371 - acc: 0.7871 - val_loss: 0.8770 - val_acc: 0.5745\n",
      "Epoch 28/30\n",
      "21840/21840 [==============================] - 9s 412us/step - loss: 0.4229 - acc: 0.7927 - val_loss: 0.9027 - val_acc: 0.5736\n",
      "Epoch 29/30\n",
      "21840/21840 [==============================] - 10s 446us/step - loss: 0.4105 - acc: 0.7968 - val_loss: 0.9231 - val_acc: 0.5743\n",
      "Epoch 30/30\n",
      "21840/21840 [==============================] - 9s 395us/step - loss: 0.3967 - acc: 0.8048 - val_loss: 0.9812 - val_acc: 0.5746\n"
     ]
    }
   ],
   "source": [
    "from keras.models import Sequential\n",
    "from keras import layers, regularizers\n",
    "from keras.optimizers import RMSprop\n",
    "\n",
    "model = Sequential()\n",
    "model.add(layers.Embedding(max_features, 128, input_length=max_len))\n",
    "model.add(layers.Conv1D(32, 7, activation='relu'))\n",
    "model.add(layers.MaxPooling1D(5))\n",
    "model.add(layers.Conv1D(32, 7, activation='relu'))\n",
    "model.add(layers.GlobalMaxPooling1D())\n",
    "model.add(layers.Dense(4))\n",
    "\n",
    "model.compile(optimizer=RMSprop(lr=1e-4),\n",
    "              loss='binary_crossentropy',\n",
    "              metrics=['acc'])\n",
    "\n",
    "history = model.fit(x_train, y_train,\n",
    "                    epochs=30,\n",
    "                    batch_size=128,\n",
    "                    validation_split=0.2)"
   ]
  },
  {
   "cell_type": "code",
   "execution_count": 11,
   "metadata": {},
   "outputs": [
    {
     "data": {
      "image/png": "[encoded data removed]",
      "text/plain": [
       "<Figure size 432x288 with 1 Axes>"
      ]
     },
     "metadata": {},
     "output_type": "display_data"
    },
    {
     "data": {
      "image/png": "[encoded data removed]",
      "text/plain": [
       "<Figure size 432x288 with 1 Axes>"
      ]
     },
     "metadata": {},
     "output_type": "display_data"
    }
   ],
   "source": [
    "import matplotlib.pyplot as plt\n",
    "acc = history.history['acc']\n",
    "val_acc = history.history['val_acc']\n",
    "loss = history.history['loss']\n",
    "val_loss = history.history['val_loss']\n",
    "epochs = range(1, len(acc) + 1)\n",
    "plt.plot(epochs, acc, 'bo', label='Training acc')\n",
    "plt.plot(epochs, val_acc, 'b', label='Validation acc')\n",
    "plt.title('Training and validation accuracy')\n",
    "plt.legend()\n",
    "plt.figure()\n",
    "plt.plot(epochs, loss, 'bo', label='Training loss')\n",
    "plt.plot(epochs, val_loss, 'b', label='Validation loss')\n",
    "plt.title('Training and validation loss')\n",
    "plt.legend()\n",
    "plt.show()"
   ]
  },
  {
   "cell_type": "code",
   "execution_count": 12,
   "metadata": {},
   "outputs": [
    {
     "name": "stdout",
     "output_type": "stream",
     "text": [
      "Epoch 1/17\n",
      "27300/27300 [==============================] - 10s 381us/step - loss: 0.9789 - acc: 0.5041\n",
      "Epoch 2/17\n",
      "27300/27300 [==============================] - 10s 349us/step - loss: 0.6888 - acc: 0.5346\n",
      "Epoch 3/17\n",
      "27300/27300 [==============================] - 10s 368us/step - loss: 0.6825 - acc: 0.5590\n",
      "Epoch 4/17\n",
      "27300/27300 [==============================] - 9s 340us/step - loss: 0.6761 - acc: 0.5725\n",
      "Epoch 5/17\n",
      "27300/27300 [==============================] - 9s 337us/step - loss: 0.6690 - acc: 0.5912\n",
      "Epoch 6/17\n",
      "27300/27300 [==============================] - 9s 339us/step - loss: 0.6609 - acc: 0.6076\n",
      "Epoch 7/17\n",
      "27300/27300 [==============================] - 9s 343us/step - loss: 0.6520 - acc: 0.6222\n",
      "Epoch 8/17\n",
      "27300/27300 [==============================] - 10s 380us/step - loss: 0.6429 - acc: 0.6361\n",
      "Epoch 9/17\n",
      "27300/27300 [==============================] - 9s 342us/step - loss: 0.6344 - acc: 0.6451\n",
      "Epoch 10/17\n",
      "27300/27300 [==============================] - 9s 348us/step - loss: 0.6257 - acc: 0.6578\n",
      "Epoch 11/17\n",
      "27300/27300 [==============================] - 9s 343us/step - loss: 0.6164 - acc: 0.6662\n",
      "Epoch 12/17\n",
      "27300/27300 [==============================] - 9s 345us/step - loss: 0.6064 - acc: 0.6744\n",
      "Epoch 13/17\n",
      "27300/27300 [==============================] - 9s 346us/step - loss: 0.5964 - acc: 0.6823\n",
      "Epoch 14/17\n",
      "27300/27300 [==============================] - 10s 348us/step - loss: 0.5857 - acc: 0.6903\n",
      "Epoch 15/17\n",
      "27300/27300 [==============================] - 10s 355us/step - loss: 0.5746 - acc: 0.6989\n",
      "Epoch 16/17\n",
      "27300/27300 [==============================] - 10s 348us/step - loss: 0.5626 - acc: 0.7075\n",
      "Epoch 17/17\n",
      "27300/27300 [==============================] - 9s 348us/step - loss: 0.5499 - acc: 0.7150\n",
      "1500/1500 [==============================] - 0s 132us/step\n"
     ]
    },
    {
     "data": {
      "text/plain": [
       "[0.7118242851893107, 0.5864999995231629]"
      ]
     },
     "execution_count": 12,
     "metadata": {},
     "output_type": "execute_result"
    }
   ],
   "source": [
    "model = Sequential()\n",
    "model.add(layers.Embedding(max_features, 128, input_length=max_len))\n",
    "model.add(layers.Conv1D(32, 7, activation='relu'))\n",
    "model.add(layers.MaxPooling1D(5))\n",
    "model.add(layers.Conv1D(32, 7, activation='relu'))\n",
    "model.add(layers.GlobalMaxPooling1D())\n",
    "model.add(layers.Dense(4))\n",
    "\n",
    "model.compile(optimizer=RMSprop(lr=1e-4),\n",
    "              loss='binary_crossentropy',\n",
    "              metrics=['acc'])\n",
    "\n",
    "model.fit(x_train, y_train,\n",
    "                    epochs=17,\n",
    "                    batch_size=128)\n",
    "\n",
    "y_pred = model.predict(x_test)\n",
    "results = model.evaluate(x_test, y_test)\n",
    "results"
   ]
  },
  {
   "cell_type": "code",
   "execution_count": 19,
   "metadata": {},
   "outputs": [
    {
     "ename": "SyntaxError",
     "evalue": "invalid syntax (<ipython-input-19-49cc38274b40>, line 2)",
     "output_type": "error",
     "traceback": [
      "\u001b[0;36m  File \u001b[0;32m\"<ipython-input-19-49cc38274b40>\"\u001b[0;36m, line \u001b[0;32m2\u001b[0m\n\u001b[0;31m    if 2.0 is in y_pred[i]:\u001b[0m\n\u001b[0m               ^\u001b[0m\n\u001b[0;31mSyntaxError\u001b[0m\u001b[0;31m:\u001b[0m invalid syntax\n"
     ]
    }
   ],
   "source": [
    "for i in range(0, len(y_pred)):\n",
    "    if 2.0 is in y_pred[i]:\n",
    "        print(i)"
   ]
  },
  {
   "cell_type": "code",
   "execution_count": 14,
   "metadata": {},
   "outputs": [
    {
     "ename": "KeyError",
     "evalue": "'1210'",
     "output_type": "error",
     "traceback": [
      "\u001b[0;31m---------------------------------------------------------------------------\u001b[0m",
      "\u001b[0;31mKeyError\u001b[0m                                  Traceback (most recent call last)",
      "\u001b[0;32m<ipython-input-14-a0de91aa70a6>\u001b[0m in \u001b[0;36m<module>\u001b[0;34m()\u001b[0m\n\u001b[1;32m     15\u001b[0m \u001b[0;34m\u001b[0m\u001b[0m\n\u001b[1;32m     16\u001b[0m \u001b[0mdecoded_y_true\u001b[0m \u001b[0;34m=\u001b[0m \u001b[0;34m[\u001b[0m\u001b[0mbyte_to_mbti\u001b[0m\u001b[0;34m(\u001b[0m\u001b[0mlabel\u001b[0m\u001b[0;34m)\u001b[0m \u001b[0;32mfor\u001b[0m \u001b[0mlabel\u001b[0m \u001b[0;32min\u001b[0m \u001b[0my_test\u001b[0m\u001b[0;34m.\u001b[0m\u001b[0mround\u001b[0m\u001b[0;34m(\u001b[0m\u001b[0;34m)\u001b[0m\u001b[0;34m]\u001b[0m\u001b[0;34m\u001b[0m\u001b[0m\n\u001b[0;32m---> 17\u001b[0;31m \u001b[0mdecoded_y_pred\u001b[0m \u001b[0;34m=\u001b[0m \u001b[0;34m[\u001b[0m\u001b[0mbyte_to_mbti\u001b[0m\u001b[0;34m(\u001b[0m\u001b[0mlabel\u001b[0m\u001b[0;34m)\u001b[0m \u001b[0;32mfor\u001b[0m \u001b[0mlabel\u001b[0m \u001b[0;32min\u001b[0m \u001b[0my_pred\u001b[0m\u001b[0;34m.\u001b[0m\u001b[0mround\u001b[0m\u001b[0;34m(\u001b[0m\u001b[0;34m)\u001b[0m\u001b[0;34m]\u001b[0m\u001b[0;34m\u001b[0m\u001b[0m\n\u001b[0m\u001b[1;32m     18\u001b[0m \u001b[0;34m\u001b[0m\u001b[0m\n\u001b[1;32m     19\u001b[0m \u001b[0mmatrix\u001b[0m \u001b[0;34m=\u001b[0m \u001b[0mconfusion_matrix\u001b[0m\u001b[0;34m(\u001b[0m\u001b[0mdecoded_y_true\u001b[0m\u001b[0;34m,\u001b[0m \u001b[0mdecoded_y_pred\u001b[0m\u001b[0;34m,\u001b[0m \u001b[0mlabels\u001b[0m\u001b[0;34m=\u001b[0m\u001b[0mtype_labels\u001b[0m\u001b[0;34m)\u001b[0m\u001b[0;34m\u001b[0m\u001b[0m\n",
      "\u001b[0;32m<ipython-input-14-a0de91aa70a6>\u001b[0m in \u001b[0;36m<listcomp>\u001b[0;34m(.0)\u001b[0m\n\u001b[1;32m     15\u001b[0m \u001b[0;34m\u001b[0m\u001b[0m\n\u001b[1;32m     16\u001b[0m \u001b[0mdecoded_y_true\u001b[0m \u001b[0;34m=\u001b[0m \u001b[0;34m[\u001b[0m\u001b[0mbyte_to_mbti\u001b[0m\u001b[0;34m(\u001b[0m\u001b[0mlabel\u001b[0m\u001b[0;34m)\u001b[0m \u001b[0;32mfor\u001b[0m \u001b[0mlabel\u001b[0m \u001b[0;32min\u001b[0m \u001b[0my_test\u001b[0m\u001b[0;34m.\u001b[0m\u001b[0mround\u001b[0m\u001b[0;34m(\u001b[0m\u001b[0;34m)\u001b[0m\u001b[0;34m]\u001b[0m\u001b[0;34m\u001b[0m\u001b[0m\n\u001b[0;32m---> 17\u001b[0;31m \u001b[0mdecoded_y_pred\u001b[0m \u001b[0;34m=\u001b[0m \u001b[0;34m[\u001b[0m\u001b[0mbyte_to_mbti\u001b[0m\u001b[0;34m(\u001b[0m\u001b[0mlabel\u001b[0m\u001b[0;34m)\u001b[0m \u001b[0;32mfor\u001b[0m \u001b[0mlabel\u001b[0m \u001b[0;32min\u001b[0m \u001b[0my_pred\u001b[0m\u001b[0;34m.\u001b[0m\u001b[0mround\u001b[0m\u001b[0;34m(\u001b[0m\u001b[0;34m)\u001b[0m\u001b[0;34m]\u001b[0m\u001b[0;34m\u001b[0m\u001b[0m\n\u001b[0m\u001b[1;32m     18\u001b[0m \u001b[0;34m\u001b[0m\u001b[0m\n\u001b[1;32m     19\u001b[0m \u001b[0mmatrix\u001b[0m \u001b[0;34m=\u001b[0m \u001b[0mconfusion_matrix\u001b[0m\u001b[0;34m(\u001b[0m\u001b[0mdecoded_y_true\u001b[0m\u001b[0;34m,\u001b[0m \u001b[0mdecoded_y_pred\u001b[0m\u001b[0;34m,\u001b[0m \u001b[0mlabels\u001b[0m\u001b[0;34m=\u001b[0m\u001b[0mtype_labels\u001b[0m\u001b[0;34m)\u001b[0m\u001b[0;34m\u001b[0m\u001b[0m\n",
      "\u001b[0;32m<ipython-input-14-a0de91aa70a6>\u001b[0m in \u001b[0;36mbyte_to_mbti\u001b[0;34m(byte)\u001b[0m\n\u001b[1;32m     12\u001b[0m     \u001b[0;32mfor\u001b[0m \u001b[0mletter\u001b[0m \u001b[0;32min\u001b[0m \u001b[0mbyte\u001b[0m\u001b[0;34m:\u001b[0m\u001b[0;34m\u001b[0m\u001b[0m\n\u001b[1;32m     13\u001b[0m          \u001b[0mbinary\u001b[0m \u001b[0;34m+=\u001b[0m\u001b[0;34m(\u001b[0m\u001b[0mstr\u001b[0m\u001b[0;34m(\u001b[0m\u001b[0mint\u001b[0m\u001b[0;34m(\u001b[0m\u001b[0mletter\u001b[0m\u001b[0;34m)\u001b[0m\u001b[0;34m)\u001b[0m\u001b[0;34m)\u001b[0m\u001b[0;34m\u001b[0m\u001b[0m\n\u001b[0;32m---> 14\u001b[0;31m     \u001b[0;32mreturn\u001b[0m \u001b[0mtype_dictionary\u001b[0m\u001b[0;34m[\u001b[0m\u001b[0mbinary\u001b[0m\u001b[0;34m]\u001b[0m\u001b[0;34m\u001b[0m\u001b[0m\n\u001b[0m\u001b[1;32m     15\u001b[0m \u001b[0;34m\u001b[0m\u001b[0m\n\u001b[1;32m     16\u001b[0m \u001b[0mdecoded_y_true\u001b[0m \u001b[0;34m=\u001b[0m \u001b[0;34m[\u001b[0m\u001b[0mbyte_to_mbti\u001b[0m\u001b[0;34m(\u001b[0m\u001b[0mlabel\u001b[0m\u001b[0;34m)\u001b[0m \u001b[0;32mfor\u001b[0m \u001b[0mlabel\u001b[0m \u001b[0;32min\u001b[0m \u001b[0my_test\u001b[0m\u001b[0;34m.\u001b[0m\u001b[0mround\u001b[0m\u001b[0;34m(\u001b[0m\u001b[0;34m)\u001b[0m\u001b[0;34m]\u001b[0m\u001b[0;34m\u001b[0m\u001b[0m\n",
      "\u001b[0;31mKeyError\u001b[0m: '1210'"
     ]
    }
   ],
   "source": [
    "from sklearn.metrics import confusion_matrix\n",
    "import matplotlib.pyplot as plt\n",
    "import itertools\n",
    "import datetime\n",
    "\n",
    "now = datetime.datetime.now()\n",
    "pictures = []\n",
    "folder = \"1DCNN\"\n",
    "\n",
    "def byte_to_mbti(byte):\n",
    "    binary = ''\n",
    "    for letter in byte:\n",
    "         binary +=(str(int(letter)))        \n",
    "    return type_dictionary[binary]\n",
    "\n",
    "decoded_y_true = [byte_to_mbti(label) for label in y_test.round()]\n",
    "decoded_y_pred = [byte_to_mbti(label) for label in y_pred.round()]\n",
    "\n",
    "matrix = confusion_matrix(decoded_y_true, decoded_y_pred, labels=type_labels)\n",
    "matrix_I_E = confusion_matrix(y_test[:,0], y_pred[:,0].round(), labels=[0, 1])\n",
    "matrix_N_S = confusion_matrix(y_test[:,1], y_pred[:,1].round(), labels=[0, 1])\n",
    "matrix_T_F = confusion_matrix(y_test[:,2], y_pred[:,2].round(), labels=[0, 1])\n",
    "matrix_J_P = confusion_matrix(y_test[:,3], y_pred[:,3].round(), labels=[0, 1])\n",
    "\n",
    "def plot_confusion_matrix(cm, classes,\n",
    "                          normalize=False,\n",
    "                          title='Confusion matrix',\n",
    "                          cmap=plt.cm.Blues):\n",
    "    \"\"\"\n",
    "    This function prints and plots the confusion matrix.\n",
    "    Normalization can be applied by setting `normalize=True`.\n",
    "    \"\"\"\n",
    "    if normalize:\n",
    "        cm = cm.astype('float') / cm.sum(axis=1)[:, np.newaxis]\n",
    "        print(\"Normalized confusion matrix\")\n",
    "    else:\n",
    "        print('Confusion matrix, without normalization')\n",
    "\n",
    "    plt.imshow(cm, interpolation='nearest', cmap=cmap)\n",
    "    plt.title(title)\n",
    "    plt.colorbar()\n",
    "    tick_marks = np.arange(len(classes))\n",
    "    plt.xticks(tick_marks, classes, rotation=45)\n",
    "    plt.yticks(tick_marks, classes)\n",
    "\n",
    "    fmt = '.2f' if normalize else 'd'\n",
    "    thresh = cm.max() / 2.\n",
    "    for i, j in itertools.product(range(cm.shape[0]), range(cm.shape[1])):\n",
    "        plt.text(j, i, format(cm[i, j], fmt),\n",
    "                 horizontalalignment=\"center\",\n",
    "                 color=\"white\" if cm[i, j] > thresh else \"black\")\n",
    "\n",
    "    plt.tight_layout()\n",
    "    plt.ylabel('True label')\n",
    "    plt.xlabel('Predicted label')\n",
    "    \n",
    "plt.figure(figsize=(15,10))\n",
    "plot_confusion_matrix(matrix, classes=type_labels, normalize=True,\n",
    "                      title='Confusion matrix')\n",
    "name = str(folder) + \"/\" + str(now.month) + \"-\" + str(now.day) + \"-\" + \\\n",
    "str(now.hour) + \"-\" + str(now.minute) + \"_\" + \"CM0.png\"\n",
    "plt.savefig(name)\n",
    "plt.show()\n",
    "pictures.append(name)\n",
    "\n",
    "plt.clf()\n",
    "plt.figure(figsize=(5,5))\n",
    "plot_confusion_matrix(matrix_I_E, classes=[\"I\", \"E\"], normalize=True,\n",
    "                      title='I-E Confusion matrix')\n",
    "name = str(folder) + \"/\" + str(now.month) + \"-\" + str(now.day) + \"-\" + \\\n",
    "str(now.hour) + \"-\" + str(now.minute) + \"_\" + \"CM1.png\"\n",
    "plt.savefig(name)\n",
    "plt.show()\n",
    "pictures.append(name)\n",
    "\n",
    "plt.clf()\n",
    "plt.figure(figsize=(5,5))\n",
    "plot_confusion_matrix(matrix_N_S, classes=[\"N\", \"S\"], normalize=True,\n",
    "                      title='N-S Confusion matrix')\n",
    "name = str(folder) + \"/\" + str(now.month) + \"-\" + str(now.day) + \"-\" + \\\n",
    "str(now.hour) + \"-\" + str(now.minute) + \"_\" + \"CM2.png\"\n",
    "plt.savefig(name)\n",
    "plt.show()\n",
    "pictures.append(name)\n",
    "\n",
    "plt.clf()\n",
    "plt.figure(figsize=(5,5))\n",
    "plot_confusion_matrix(matrix_T_F, classes=[\"T\", \"F\"], normalize=True,\n",
    "                      title='T-F Confusion matrix')\n",
    "name = str(folder) + \"/\" + str(now.month) + \"-\" + str(now.day) + \"-\" + \\\n",
    "str(now.hour) + \"-\" + str(now.minute) + \"_\" + \"CM3.png\"\n",
    "plt.savefig(name)\n",
    "plt.show()\n",
    "pictures.append(name)\n",
    "\n",
    "plt.clf()\n",
    "plt.figure(figsize=(5,5))\n",
    "plot_confusion_matrix(matrix_J_P, classes=[\"J\", \"P\"], normalize=True,\n",
    "                      title='J-P Confusion matrix')\n",
    "name = str(folder) + \"/\" + str(now.month) + \"-\" + str(now.day) + \"-\" + \\\n",
    "str(now.hour) + \"-\" + str(now.minute) + \"_\" + \"CM4.png\"\n",
    "plt.savefig(name)\n",
    "plt.show()\n",
    "pictures.append(name)"
   ]
  },
  {
   "cell_type": "code",
   "execution_count": null,
   "metadata": {},
   "outputs": [],
   "source": []
  }
 ],
 "metadata": {
  "kernelspec": {
   "display_name": "URE18",
   "language": "python",
   "name": "ure18"
  },
  "language_info": {
   "codemirror_mode": {
    "name": "ipython",
    "version": 3
   },
   "file_extension": ".py",
   "mimetype": "text/x-python",
   "name": "python",
   "nbconvert_exporter": "python",
   "pygments_lexer": "ipython3",
   "version": "3.6.5"
  }
 },
 "nbformat": 4,
 "nbformat_minor": 2
}
