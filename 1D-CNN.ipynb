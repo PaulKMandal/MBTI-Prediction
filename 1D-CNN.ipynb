{
 "cells": [
  {
   "cell_type": "code",
   "execution_count": 1,
   "metadata": {},
   "outputs": [],
   "source": [
    "import pickle\n",
    "\n",
    "with open('user_embedding_labels.pkl', 'rb') as lf:\n",
    "    labels = pickle.load(lf)\n",
    "\n",
    "with open('user_embedding_posts.pkl', 'rb') as pf:\n",
    "    posts = pickle.load(pf)"
   ]
  },
  {
   "cell_type": "code",
   "execution_count": 2,
   "metadata": {},
   "outputs": [
    {
     "name": "stderr",
     "output_type": "stream",
     "text": [
      "Using TensorFlow backend.\n"
     ]
    }
   ],
   "source": [
    "# Tokenizing data\n",
    "from keras.preprocessing.text import Tokenizer\n",
    "from keras.preprocessing.sequence import pad_sequences\n",
    "import numpy as np\n",
    "\n",
    "max_len = 1000\n",
    "max_features = 10000\n",
    "test_samples = 1500\n",
    "max_words = 10000"
   ]
  },
  {
   "cell_type": "code",
   "execution_count": 3,
   "metadata": {},
   "outputs": [
    {
     "name": "stdout",
     "output_type": "stream",
     "text": [
      "Found 116582 unique tokens\n"
     ]
    }
   ],
   "source": [
    "tokenizer = Tokenizer(num_words=max_words)\n",
    "tokenizer.fit_on_texts(posts)\n",
    "sequences = tokenizer.texts_to_sequences(posts)\n",
    "word_index = tokenizer.word_index\n",
    "print('Found %s unique tokens' % len(word_index))"
   ]
  },
  {
   "cell_type": "code",
   "execution_count": 4,
   "metadata": {},
   "outputs": [],
   "source": [
    "data = pad_sequences(sequences, maxlen=max_len)\n",
    "labels = np.asarray(labels)"
   ]
  },
  {
   "cell_type": "code",
   "execution_count": 5,
   "metadata": {},
   "outputs": [
    {
     "name": "stdout",
     "output_type": "stream",
     "text": [
      "Shape of data tensor: (8675, 1000)\n",
      "Shape of label tensor: (8675,)\n"
     ]
    }
   ],
   "source": [
    "print('Shape of data tensor:', data.shape)\n",
    "print('Shape of label tensor:', labels.shape)"
   ]
  },
  {
   "cell_type": "code",
   "execution_count": 6,
   "metadata": {},
   "outputs": [],
   "source": [
    "indices = np.arange(data.shape[0])\n",
    "np.random.shuffle(indices)\n",
    "data = data[indices]\n",
    "labels = labels[indices]"
   ]
  },
  {
   "cell_type": "code",
   "execution_count": 7,
   "metadata": {},
   "outputs": [],
   "source": [
    "type_dictionary = {\n",
    "    '0000':'INTJ',\n",
    "    '0001':'INTP',\n",
    "    '0010':'INFJ',\n",
    "    '0011':'INFP',\n",
    "    '0100':'ISTJ',\n",
    "    '0101':'ISTP',\n",
    "    '0110':'ISFJ',\n",
    "    '0111':'ISFP',\n",
    "    '1000':'ENTJ',\n",
    "    '1001':'ENTP',\n",
    "    '1010':'ENFJ',\n",
    "    '1011':'ENFP',\n",
    "    '1100':'ESTJ',\n",
    "    '1101':'ESTP',\n",
    "    '1110':'ESFJ',\n",
    "    '1111':'ESFP',\n",
    "}\n",
    "\n",
    "type_labels=['INTJ','INTP','INFJ','INFP','ISTJ','ISTP','ISFJ','ISFP', \\\n",
    "        'ENTJ','ENTP','ENFJ','ENFP','ESTJ','ESTP','ESFJ','ESFP',]\n",
    "\n",
    "one_hot_types = []\n",
    "\n",
    "for label in labels:\n",
    "    bin_type = []\n",
    "    \n",
    "    if (label[0] == 'I'):\n",
    "        bin_type.append(0)\n",
    "    else:\n",
    "        bin_type.append(1)\n",
    "        \n",
    "    if (label[1] == 'N'):\n",
    "        bin_type.append(0)\n",
    "    else:\n",
    "        bin_type.append(1)\n",
    "        \n",
    "    if (label[2] == 'T'):\n",
    "        bin_type.append(0)\n",
    "    else:\n",
    "        bin_type.append(1)\n",
    "        \n",
    "    if (label[3] == 'J'):\n",
    "        bin_type.append(0)\n",
    "    else:\n",
    "        bin_type.append(1)\n",
    "        \n",
    "    one_hot_types.append(bin_type)"
   ]
  },
  {
   "cell_type": "code",
   "execution_count": 8,
   "metadata": {},
   "outputs": [],
   "source": [
    "y = np.asarray(one_hot_types).astype('float32')\n",
    "\n",
    "x_test = data[:test_samples]\n",
    "y_test = y[:test_samples]\n",
    "\n",
    "x_train = data[test_samples:]\n",
    "y_train = y[test_samples:]"
   ]
  },
  {
   "cell_type": "code",
   "execution_count": 9,
   "metadata": {},
   "outputs": [],
   "source": [
    "class_weights = {\n",
    "    0:1.,\n",
    "    1:3.43,\n",
    "    2:1.,\n",
    "    3:5.35,\n",
    "    4:1.,\n",
    "    5:1.12,\n",
    "    6:1.,\n",
    "    7:0.69\n",
    "}"
   ]
  },
  {
   "cell_type": "code",
   "execution_count": 10,
   "metadata": {},
   "outputs": [
    {
     "name": "stdout",
     "output_type": "stream",
     "text": [
      "Train on 5740 samples, validate on 1435 samples\n",
      "Epoch 1/30\n",
      "5740/5740 [==============================] - 33s 6ms/step - loss: 4.6159 - acc: 0.6222 - val_loss: 4.3367 - val_acc: 0.6218\n",
      "Epoch 2/30\n",
      "5740/5740 [==============================] - 31s 5ms/step - loss: 4.3198 - acc: 0.6402 - val_loss: 4.1765 - val_acc: 0.6768\n",
      "Epoch 3/30\n",
      "5740/5740 [==============================] - 32s 5ms/step - loss: 4.2329 - acc: 0.6714 - val_loss: 4.1497 - val_acc: 0.6768\n",
      "Epoch 4/30\n",
      "5740/5740 [==============================] - 32s 6ms/step - loss: 4.2148 - acc: 0.6714 - val_loss: 4.1485 - val_acc: 0.6768\n",
      "Epoch 5/30\n",
      "5740/5740 [==============================] - 32s 6ms/step - loss: 4.2019 - acc: 0.6714 - val_loss: 4.1468 - val_acc: 0.6768\n",
      "Epoch 6/30\n",
      "5740/5740 [==============================] - 31s 5ms/step - loss: 4.1905 - acc: 0.6714 - val_loss: 4.1492 - val_acc: 0.6768\n",
      "Epoch 7/30\n",
      "5740/5740 [==============================] - 32s 6ms/step - loss: 4.1807 - acc: 0.6714 - val_loss: 4.1458 - val_acc: 0.6768\n",
      "Epoch 8/30\n",
      "5740/5740 [==============================] - 32s 6ms/step - loss: 4.1710 - acc: 0.6714 - val_loss: 4.1455 - val_acc: 0.6768\n",
      "Epoch 9/30\n",
      "5740/5740 [==============================] - 32s 6ms/step - loss: 4.1617 - acc: 0.6714 - val_loss: 4.1465 - val_acc: 0.6768\n",
      "Epoch 10/30\n",
      "5740/5740 [==============================] - 37s 6ms/step - loss: 4.1529 - acc: 0.6714 - val_loss: 4.1504 - val_acc: 0.6768\n",
      "Epoch 11/30\n",
      "5740/5740 [==============================] - 33s 6ms/step - loss: 4.1445 - acc: 0.6714 - val_loss: 4.1463 - val_acc: 0.6768\n",
      "Epoch 12/30\n",
      "5740/5740 [==============================] - 34s 6ms/step - loss: 4.1362 - acc: 0.6714 - val_loss: 4.1515 - val_acc: 0.6768\n",
      "Epoch 13/30\n",
      "5740/5740 [==============================] - 34s 6ms/step - loss: 4.1282 - acc: 0.6714 - val_loss: 4.1470 - val_acc: 0.6768\n",
      "Epoch 14/30\n",
      "5740/5740 [==============================] - 35s 6ms/step - loss: 4.1200 - acc: 0.6714 - val_loss: 4.1571 - val_acc: 0.6768\n",
      "Epoch 15/30\n",
      "5740/5740 [==============================] - 34s 6ms/step - loss: 4.1120 - acc: 0.6714 - val_loss: 4.1528 - val_acc: 0.6768\n",
      "Epoch 16/30\n",
      "5740/5740 [==============================] - 32s 6ms/step - loss: 4.1042 - acc: 0.6714 - val_loss: 4.1551 - val_acc: 0.6768\n",
      "Epoch 17/30\n",
      "5740/5740 [==============================] - 32s 6ms/step - loss: 4.0958 - acc: 0.6714 - val_loss: 4.1574 - val_acc: 0.6768\n",
      "Epoch 18/30\n",
      "5740/5740 [==============================] - 32s 6ms/step - loss: 4.0882 - acc: 0.6713 - val_loss: 4.1722 - val_acc: 0.6768\n",
      "Epoch 19/30\n",
      "5740/5740 [==============================] - 32s 6ms/step - loss: 4.0804 - acc: 0.6713 - val_loss: 4.1574 - val_acc: 0.6768\n",
      "Epoch 20/30\n",
      "5740/5740 [==============================] - 32s 6ms/step - loss: 4.0727 - acc: 0.6710 - val_loss: 4.1672 - val_acc: 0.6768\n",
      "Epoch 21/30\n",
      "5740/5740 [==============================] - 32s 6ms/step - loss: 4.0648 - acc: 0.6706 - val_loss: 4.1706 - val_acc: 0.6768\n",
      "Epoch 22/30\n",
      "5740/5740 [==============================] - 32s 6ms/step - loss: 4.0573 - acc: 0.6703 - val_loss: 4.1732 - val_acc: 0.6768\n",
      "Epoch 23/30\n",
      "5740/5740 [==============================] - 33s 6ms/step - loss: 4.0498 - acc: 0.6702 - val_loss: 4.1611 - val_acc: 0.6765\n",
      "Epoch 24/30\n",
      "5740/5740 [==============================] - 33s 6ms/step - loss: 4.0422 - acc: 0.6698 - val_loss: 4.1634 - val_acc: 0.6768\n",
      "Epoch 25/30\n",
      "5740/5740 [==============================] - 32s 6ms/step - loss: 4.0348 - acc: 0.6694 - val_loss: 4.1657 - val_acc: 0.6768\n",
      "Epoch 26/30\n",
      "5740/5740 [==============================] - 32s 6ms/step - loss: 4.0274 - acc: 0.6694 - val_loss: 4.1734 - val_acc: 0.6765\n",
      "Epoch 27/30\n",
      "5740/5740 [==============================] - 33s 6ms/step - loss: 4.0202 - acc: 0.6684 - val_loss: 4.1689 - val_acc: 0.6765\n",
      "Epoch 28/30\n",
      "5740/5740 [==============================] - 32s 6ms/step - loss: 4.0130 - acc: 0.6689 - val_loss: 4.1688 - val_acc: 0.6765\n",
      "Epoch 29/30\n",
      "5740/5740 [==============================] - 32s 6ms/step - loss: 4.0059 - acc: 0.6676 - val_loss: 4.1684 - val_acc: 0.6765\n",
      "Epoch 30/30\n",
      "5740/5740 [==============================] - 32s 6ms/step - loss: 3.9988 - acc: 0.6682 - val_loss: 4.1794 - val_acc: 0.6765\n"
     ]
    }
   ],
   "source": [
    "from keras.models import Sequential\n",
    "from keras import layers, regularizers\n",
    "from keras.optimizers import RMSprop\n",
    "\n",
    "model = Sequential()\n",
    "model.add(layers.Embedding(max_features, 128, input_length=max_len))\n",
    "model.add(layers.Conv1D(32, 7, activation='relu', kernel_regularizer=regularizers.l2(0.001)))\n",
    "model.add(layers.MaxPooling1D(5))\n",
    "model.add(layers.Conv1D(32, 7, activation='relu', kernel_regularizer=regularizers.l2(0.001)))\n",
    "model.add(layers.GlobalMaxPooling1D())\n",
    "model.add(layers.Dense(4))\n",
    "\n",
    "model.compile(optimizer=RMSprop(lr=1e-4),\n",
    "              loss='binary_crossentropy',\n",
    "              metrics=['acc'])\n",
    "\n",
    "history = model.fit(x_train, y_train,\n",
    "                    epochs=30,\n",
    "                    batch_size=128,\n",
    "                    validation_split=0.2,\n",
    "                    class_weight=class_weights)"
   ]
  },
  {
   "cell_type": "code",
   "execution_count": 11,
   "metadata": {},
   "outputs": [
    {
     "name": "stdout",
     "output_type": "stream",
     "text": [
      "Epoch 1/10\n",
      "7175/7175 [==============================] - 38s 5ms/step - loss: 3.4756 - acc: 0.6221\n",
      "Epoch 2/10\n",
      "7175/7175 [==============================] - 38s 5ms/step - loss: 1.2704 - acc: 0.6221\n",
      "Epoch 3/10\n",
      "7175/7175 [==============================] - 37s 5ms/step - loss: 1.0304 - acc: 0.6709\n",
      "Epoch 4/10\n",
      "7175/7175 [==============================] - 39s 5ms/step - loss: 0.9932 - acc: 0.6725\n",
      "Epoch 5/10\n",
      "7175/7175 [==============================] - 37s 5ms/step - loss: 0.9774 - acc: 0.6725\n",
      "Epoch 6/10\n",
      "7175/7175 [==============================] - 37s 5ms/step - loss: 0.9630 - acc: 0.6725\n",
      "Epoch 7/10\n",
      "7175/7175 [==============================] - 37s 5ms/step - loss: 0.9490 - acc: 0.6725\n",
      "Epoch 8/10\n",
      "7175/7175 [==============================] - 37s 5ms/step - loss: 0.9352 - acc: 0.6725\n",
      "Epoch 9/10\n",
      "7175/7175 [==============================] - 37s 5ms/step - loss: 0.9214 - acc: 0.6725\n",
      "Epoch 10/10\n",
      "7175/7175 [==============================] - 37s 5ms/step - loss: 0.9077 - acc: 0.6725\n",
      "1500/1500 [==============================] - 3s 2ms/step\n"
     ]
    },
    {
     "data": {
      "text/plain": [
       "[0.6411504410107931, 0.6791666661898295]"
      ]
     },
     "execution_count": 11,
     "metadata": {},
     "output_type": "execute_result"
    }
   ],
   "source": [
    "model = Sequential()\n",
    "model.add(layers.Embedding(max_features, 128, input_length=max_len))\n",
    "model.add(layers.Conv1D(32, 7, activation='relu'))\n",
    "model.add(layers.MaxPooling1D(5))\n",
    "model.add(layers.Conv1D(32, 7, activation='relu'))\n",
    "model.add(layers.GlobalMaxPooling1D())\n",
    "model.add(layers.Dense(4))\n",
    "\n",
    "model.compile(optimizer=RMSprop(lr=1e-4),\n",
    "              loss='binary_crossentropy',\n",
    "              metrics=['acc'])\n",
    "\n",
    "model.fit(x_train, y_train,\n",
    "                    epochs=10,\n",
    "                    batch_size=128,\n",
    "                     class_weight=class_weights)\n",
    "\n",
    "y_pred = model.predict(x_test)\n",
    "results = model.evaluate(x_test, y_test)\n",
    "results"
   ]
  },
  {
   "cell_type": "code",
   "execution_count": 12,
   "metadata": {},
   "outputs": [
    {
     "name": "stdout",
     "output_type": "stream",
     "text": [
      "Normalized confusion matrix\n"
     ]
    },
    {
     "data": {
      "text/plain": [
       "<Figure size 1500x1000 with 2 Axes>"
      ]
     },
     "metadata": {},
     "output_type": "display_data"
    },
    {
     "name": "stdout",
     "output_type": "stream",
     "text": [
      "Normalized confusion matrix\n"
     ]
    },
    {
     "data": {
      "text/plain": [
       "<Figure size 640x480 with 0 Axes>"
      ]
     },
     "metadata": {},
     "output_type": "display_data"
    },
    {
     "data": {
      "text/plain": [
       "<Figure size 500x500 with 2 Axes>"
      ]
     },
     "metadata": {},
     "output_type": "display_data"
    },
    {
     "name": "stdout",
     "output_type": "stream",
     "text": [
      "Normalized confusion matrix\n"
     ]
    },
    {
     "data": {
      "text/plain": [
       "<Figure size 640x480 with 0 Axes>"
      ]
     },
     "metadata": {},
     "output_type": "display_data"
    },
    {
     "data": {
      "text/plain": [
       "<Figure size 500x500 with 2 Axes>"
      ]
     },
     "metadata": {},
     "output_type": "display_data"
    },
    {
     "name": "stdout",
     "output_type": "stream",
     "text": [
      "Normalized confusion matrix\n"
     ]
    },
    {
     "data": {
      "text/plain": [
       "<Figure size 640x480 with 0 Axes>"
      ]
     },
     "metadata": {},
     "output_type": "display_data"
    },
    {
     "data": {
      "text/plain": [
       "<Figure size 500x500 with 2 Axes>"
      ]
     },
     "metadata": {},
     "output_type": "display_data"
    },
    {
     "name": "stdout",
     "output_type": "stream",
     "text": [
      "Normalized confusion matrix\n"
     ]
    },
    {
     "data": {
      "text/plain": [
       "<Figure size 640x480 with 0 Axes>"
      ]
     },
     "metadata": {},
     "output_type": "display_data"
    },
    {
     "data": {
      "text/plain": [
       "<Figure size 500x500 with 2 Axes>"
      ]
     },
     "metadata": {},
     "output_type": "display_data"
    }
   ],
   "source": [
    "from sklearn.metrics import confusion_matrix\n",
    "import matplotlib.pyplot as plt\n",
    "import itertools\n",
    "import datetime\n",
    "\n",
    "now = datetime.datetime.now()\n",
    "pictures = []\n",
    "folder = \"1DCNN\"\n",
    "\n",
    "def byte_to_mbti(byte):\n",
    "    binary = ''\n",
    "    for letter in byte:\n",
    "         binary +=(str(int(letter)))        \n",
    "    return type_dictionary[binary]\n",
    "\n",
    "decoded_y_true = [byte_to_mbti(label) for label in y_test.round()]\n",
    "decoded_y_pred = [byte_to_mbti(label) for label in y_pred.round()]\n",
    "\n",
    "matrix = confusion_matrix(decoded_y_true, decoded_y_pred, labels=type_labels)\n",
    "matrix_I_E = confusion_matrix(y_test[:,0], y_pred[:,0].round(), labels=[0, 1])\n",
    "matrix_N_S = confusion_matrix(y_test[:,1], y_pred[:,1].round(), labels=[0, 1])\n",
    "matrix_T_F = confusion_matrix(y_test[:,2], y_pred[:,2].round(), labels=[0, 1])\n",
    "matrix_J_P = confusion_matrix(y_test[:,3], y_pred[:,3].round(), labels=[0, 1])\n",
    "\n",
    "def plot_confusion_matrix(cm, classes,\n",
    "                          normalize=False,\n",
    "                          title='Confusion matrix',\n",
    "                          cmap=plt.cm.Blues):\n",
    "    \"\"\"\n",
    "    This function prints and plots the confusion matrix.\n",
    "    Normalization can be applied by setting `normalize=True`.\n",
    "    \"\"\"\n",
    "    if normalize:\n",
    "        cm = cm.astype('float') / cm.sum(axis=1)[:, np.newaxis]\n",
    "        print(\"Normalized confusion matrix\")\n",
    "    else:\n",
    "        print('Confusion matrix, without normalization')\n",
    "\n",
    "    plt.imshow(cm, interpolation='nearest', cmap=cmap)\n",
    "    plt.title(title)\n",
    "    plt.colorbar()\n",
    "    tick_marks = np.arange(len(classes))\n",
    "    plt.xticks(tick_marks, classes, rotation=45)\n",
    "    plt.yticks(tick_marks, classes)\n",
    "\n",
    "    fmt = '.2f' if normalize else 'd'\n",
    "    thresh = cm.max() / 2.\n",
    "    for i, j in itertools.product(range(cm.shape[0]), range(cm.shape[1])):\n",
    "        plt.text(j, i, format(cm[i, j], fmt),\n",
    "                 horizontalalignment=\"center\",\n",
    "                 color=\"white\" if cm[i, j] > thresh else \"black\")\n",
    "\n",
    "    plt.tight_layout()\n",
    "    plt.ylabel('True label')\n",
    "    plt.xlabel('Predicted label')\n",
    "    \n",
    "plt.figure(figsize=(15,10))\n",
    "plot_confusion_matrix(matrix, classes=type_labels, normalize=True,\n",
    "                      title='Confusion matrix')\n",
    "name = str(folder) + \"/\" + str(now.month) + \"-\" + str(now.day) + \"-\" + \\\n",
    "str(now.hour) + \"-\" + str(now.minute) + \"_\" + \"CM0.png\"\n",
    "plt.savefig(name)\n",
    "plt.show()\n",
    "pictures.append(name)\n",
    "\n",
    "plt.clf()\n",
    "plt.figure(figsize=(5,5))\n",
    "plot_confusion_matrix(matrix_I_E, classes=[\"I\", \"E\"], normalize=True,\n",
    "                      title='I-E Confusion matrix')\n",
    "name = str(folder) + \"/\" + str(now.month) + \"-\" + str(now.day) + \"-\" + \\\n",
    "str(now.hour) + \"-\" + str(now.minute) + \"_\" + \"CM1.png\"\n",
    "plt.savefig(name)\n",
    "plt.show()\n",
    "pictures.append(name)\n",
    "\n",
    "plt.clf()\n",
    "plt.figure(figsize=(5,5))\n",
    "plot_confusion_matrix(matrix_N_S, classes=[\"N\", \"S\"], normalize=True,\n",
    "                      title='N-S Confusion matrix')\n",
    "name = str(folder) + \"/\" + str(now.month) + \"-\" + str(now.day) + \"-\" + \\\n",
    "str(now.hour) + \"-\" + str(now.minute) + \"_\" + \"CM2.png\"\n",
    "plt.savefig(name)\n",
    "plt.show()\n",
    "pictures.append(name)\n",
    "\n",
    "plt.clf()\n",
    "plt.figure(figsize=(5,5))\n",
    "plot_confusion_matrix(matrix_T_F, classes=[\"T\", \"F\"], normalize=True,\n",
    "                      title='T-F Confusion matrix')\n",
    "name = str(folder) + \"/\" + str(now.month) + \"-\" + str(now.day) + \"-\" + \\\n",
    "str(now.hour) + \"-\" + str(now.minute) + \"_\" + \"CM3.png\"\n",
    "plt.savefig(name)\n",
    "plt.show()\n",
    "pictures.append(name)\n",
    "\n",
    "plt.clf()\n",
    "plt.figure(figsize=(5,5))\n",
    "plot_confusion_matrix(matrix_J_P, classes=[\"J\", \"P\"], normalize=True,\n",
    "                      title='J-P Confusion matrix')\n",
    "name = str(folder) + \"/\" + str(now.month) + \"-\" + str(now.day) + \"-\" + \\\n",
    "str(now.hour) + \"-\" + str(now.minute) + \"_\" + \"CM4.png\"\n",
    "plt.savefig(name)\n",
    "plt.show()\n",
    "pictures.append(name)"
   ]
  },
  {
   "cell_type": "code",
   "execution_count": null,
   "metadata": {},
   "outputs": [],
   "source": []
  }
 ],
 "metadata": {
  "kernelspec": {
   "display_name": "URE18",
   "language": "python",
   "name": "ure18"
  },
  "language_info": {
   "codemirror_mode": {
    "name": "ipython",
    "version": 3
   },
   "file_extension": ".py",
   "mimetype": "text/x-python",
   "name": "python",
   "nbconvert_exporter": "python",
   "pygments_lexer": "ipython3",
   "version": "3.6.5"
  }
 },
 "nbformat": 4,
 "nbformat_minor": 2
}
