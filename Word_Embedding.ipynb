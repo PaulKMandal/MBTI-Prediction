{
 "cells": [
  {
   "cell_type": "raw",
   "metadata": {},
   "source": [
    "import json\n",
    "import re"
   ]
  },
  {
   "cell_type": "markdown",
   "metadata": {},
   "source": [
    "### Preprocessing"
   ]
  },
  {
   "cell_type": "raw",
   "metadata": {},
   "source": [
    "# This file contains 8600ish users Data\n",
    "# In the form: {'MBTI Type', 'Social Media Posts'}\n",
    "dataFile = open('formatted_data.json', 'r')"
   ]
  },
  {
   "cell_type": "raw",
   "metadata": {},
   "source": [
    "data = []"
   ]
  },
  {
   "cell_type": "raw",
   "metadata": {},
   "source": [
    "# loading the json data into a list\n",
    "for line in dataFile:\n",
    "    data.append(json.loads(line))"
   ]
  },
  {
   "cell_type": "raw",
   "metadata": {},
   "source": [
    "types = []\n",
    "posts = []"
   ]
  },
  {
   "cell_type": "raw",
   "metadata": {},
   "source": [
    "# Separating data into 2 separate lists for preprocessing\n",
    "# For the most part we process the 'post' data\n",
    "# we skip the first element as that is only the label\n",
    "for i in range(1, len(data)):\n",
    "    types.append(data[i]['Type'])\n",
    "    posts.append(data[i]['Post'].lower())"
   ]
  },
  {
   "cell_type": "raw",
   "metadata": {},
   "source": [
    "# Turning the posts from: 'post1|||post2|||post3'\n",
    "#                     to: ['post1', 'post2', 'post3']\n",
    "# expects a list of posts as strings\n",
    "# returns a list of lists of posts\n",
    "def vectorize_post_data(posts):\n",
    "    for index in range(0, len(posts)):\n",
    "        posts[index] = posts[index].split(\"|||\")\n",
    "        \n",
    "    return posts\n",
    "\n",
    "posts = vectorize_post_data(posts)"
   ]
  },
  {
   "cell_type": "raw",
   "metadata": {},
   "source": [
    "def isInt(s):\n",
    "    try: \n",
    "        int(s)\n",
    "        return True\n",
    "    except ValueError:\n",
    "        return False\n",
    "\n",
    "def remove_hyperTextLinksFromPosts(posts):\n",
    "    # And numbers too!\n",
    "    for index in range(0, len(posts)):\n",
    "        usable_post = [post for post in posts[index] if not re.search(r'^(.)*http(.)*$', post) and  not isInt(post)]\n",
    "        posts[index] = usable_post\n",
    "    \n",
    "    return posts\n",
    "        \n",
    "posts = remove_hyperTextLinksFromPosts(posts)"
   ]
  },
  {
   "cell_type": "raw",
   "metadata": {},
   "source": [
    "def remove_MBTIClassifiersFromPosts(posts):\n",
    "    MBTI_regex = r'[\\w]*(i|e)(s|n)(f|t)(p|j)[\\w]*'\n",
    "    for i in range(0, len(posts)):\n",
    "        for j in range(0, len(posts[i])):\n",
    "            posts[i][j] = re.sub(MBTI_regex, ' ', posts[i][j], flags=re.IGNORECASE)\n",
    "        \n",
    "    return posts\n",
    "    \n",
    "posts = remove_MBTIClassifiersFromPosts(posts)"
   ]
  },
  {
   "cell_type": "raw",
   "metadata": {},
   "source": [
    "joined_posts = [\" \".join(post) for post in posts]"
   ]
  },
  {
   "cell_type": "raw",
   "metadata": {},
   "source": [
    "avg_length = 0\n",
    "for post in joined_posts:\n",
    "    avg_length += len(post)\n",
    "    \n",
    "round(avg_length / len(joined_posts))"
   ]
  },
  {
   "cell_type": "raw",
   "metadata": {},
   "source": [
    "len(types)"
   ]
  },
  {
   "cell_type": "raw",
   "metadata": {},
   "source": [
    "lstm_labels = []\n",
    "lstm_posts = []"
   ]
  },
  {
   "cell_type": "raw",
   "metadata": {},
   "source": [
    "for i in range(0, len(posts)):\n",
    "    for post in posts[i]:\n",
    "        lstm_labels.append(types[i])\n",
    "        lstm_posts.append(post)"
   ]
  },
  {
   "cell_type": "raw",
   "metadata": {},
   "source": [
    "import pickle\n",
    "\n",
    "with open ('user_embedding_labels.pkl', 'wb') as lfw:\n",
    "    pickle.dump(types , lfw)\n",
    "    \n",
    "with open ('user_embedding_posts.pkl', 'wb') as pfw:\n",
    "    pickle.dump(joined_posts, pfw)"
   ]
  },
  {
   "cell_type": "code",
   "execution_count": 1,
   "metadata": {},
   "outputs": [],
   "source": [
    "import pickle\n",
    "\n",
    "with open('undersampled_data.pkl', 'rb') as lf:\n",
    "    labels = pickle.load(lf)\n",
    "\n",
    "with open('undersampled_posts.pkl', 'rb') as pf:\n",
    "    posts = pickle.load(pf)"
   ]
  },
  {
   "cell_type": "code",
   "execution_count": 2,
   "metadata": {},
   "outputs": [
    {
     "name": "stderr",
     "output_type": "stream",
     "text": [
      "Using TensorFlow backend.\n"
     ]
    }
   ],
   "source": [
    "# Tokenizing data\n",
    "from keras.preprocessing.text import Tokenizer\n",
    "from keras.preprocessing.sequence import pad_sequences\n",
    "import numpy as np\n",
    "\n",
    "max_len = 50\n",
    "max_features = 10000\n",
    "max_words = 10000"
   ]
  },
  {
   "cell_type": "code",
   "execution_count": 3,
   "metadata": {},
   "outputs": [
    {
     "name": "stdout",
     "output_type": "stream",
     "text": [
      "Found 29926 unique tokens\n"
     ]
    }
   ],
   "source": [
    "tokenizer = Tokenizer(num_words=max_words)\n",
    "tokenizer.fit_on_texts(posts)\n",
    "sequences = tokenizer.texts_to_sequences(posts)\n",
    "word_index = tokenizer.word_index\n",
    "print('Found %s unique tokens' % len(word_index))"
   ]
  },
  {
   "cell_type": "code",
   "execution_count": 4,
   "metadata": {},
   "outputs": [],
   "source": [
    "data = pad_sequences(sequences, maxlen=max_len)"
   ]
  },
  {
   "cell_type": "code",
   "execution_count": 5,
   "metadata": {},
   "outputs": [],
   "source": [
    "labels = np.asarray(labels)"
   ]
  },
  {
   "cell_type": "code",
   "execution_count": 6,
   "metadata": {},
   "outputs": [
    {
     "name": "stdout",
     "output_type": "stream",
     "text": [
      "Shape of data tensor: (28800, 50)\n",
      "Shape of label tensor: (28800,)\n"
     ]
    }
   ],
   "source": [
    "print('Shape of data tensor:', data.shape)\n",
    "print('Shape of label tensor:', labels.shape)"
   ]
  },
  {
   "cell_type": "code",
   "execution_count": 7,
   "metadata": {},
   "outputs": [],
   "source": [
    "indices = np.arange(data.shape[0])\n",
    "np.random.shuffle(indices)\n",
    "data = data[indices]\n",
    "labels = labels[indices]"
   ]
  },
  {
   "cell_type": "code",
   "execution_count": 8,
   "metadata": {},
   "outputs": [],
   "source": [
    "type_dictionary = {\n",
    "    '0000':'INTJ',\n",
    "    '0001':'INTP',\n",
    "    '0010':'INFJ',\n",
    "    '0011':'INFP',\n",
    "    '0100':'ISTJ',\n",
    "    '0101':'ISTP',\n",
    "    '0110':'ISFJ',\n",
    "    '0111':'ISFP',\n",
    "    '1000':'ENTJ',\n",
    "    '1001':'ENTP',\n",
    "    '1010':'ENFJ',\n",
    "    '1011':'ENFP',\n",
    "    '1100':'ESTJ',\n",
    "    '1101':'ESTP',\n",
    "    '1110':'ESFJ',\n",
    "    '1111':'ESFP',\n",
    "}\n",
    "\n",
    "type_labels=['INTJ','INTP','INFJ','INFP','ISTJ','ISTP','ISFJ','ISFP', \\\n",
    "        'ENTJ','ENTP','ENFJ','ENFP','ESTJ','ESTP','ESFJ','ESFP',]\n",
    "\n",
    "one_hot_types = []\n",
    "\n",
    "for label in labels:\n",
    "    bin_type = []\n",
    "    \n",
    "    if (label[0] == 'I'):\n",
    "        bin_type.append(0)\n",
    "    else:\n",
    "        bin_type.append(1)\n",
    "        \n",
    "    if (label[1] == 'N'):\n",
    "        bin_type.append(0)\n",
    "    else:\n",
    "        bin_type.append(1)\n",
    "        \n",
    "    if (label[2] == 'T'):\n",
    "        bin_type.append(0)\n",
    "    else:\n",
    "        bin_type.append(1)\n",
    "        \n",
    "    if (label[3] == 'J'):\n",
    "        bin_type.append(0)\n",
    "    else:\n",
    "        bin_type.append(1)\n",
    "        \n",
    "    one_hot_types.append(bin_type)"
   ]
  },
  {
   "cell_type": "code",
   "execution_count": 9,
   "metadata": {},
   "outputs": [],
   "source": [
    "y = np.asarray(one_hot_types).astype('float32')\n",
    "\n",
    "x_test = data[:4000]\n",
    "y_test = y[:4000]\n",
    "\n",
    "x_train = data[4000:]\n",
    "y_train = y[4000:]\n"
   ]
  },
  {
   "cell_type": "code",
   "execution_count": 11,
   "metadata": {},
   "outputs": [
    {
     "name": "stdout",
     "output_type": "stream",
     "text": [
      "Found 400000 word vectors.\n"
     ]
    }
   ],
   "source": [
    "import os\n",
    "\n",
    "embeddings_index = {}\n",
    "f = open('glove.6B.50d.txt', encoding=\"utf8\")\n",
    "for line in f:\n",
    "    values = line.split()\n",
    "    word = values[0]\n",
    "    coefs = np.asarray(values[1:], dtype='float32')\n",
    "    embeddings_index[word] = coefs\n",
    "f.close()\n",
    "print('Found %s word vectors.' % len(embeddings_index))"
   ]
  },
  {
   "cell_type": "code",
   "execution_count": 12,
   "metadata": {},
   "outputs": [],
   "source": [
    "embedding_dim = 50\n",
    "embedding_matrix = np.zeros((max_words, embedding_dim))\n",
    "for word, i in word_index.items():\n",
    "    if i < max_words:\n",
    "        embedding_vector = embeddings_index.get(word)\n",
    "        if embedding_vector is not None:\n",
    "            embedding_matrix[i] = embedding_vector"
   ]
  },
  {
   "cell_type": "code",
   "execution_count": 13,
   "metadata": {},
   "outputs": [],
   "source": [
    "from keras import models\n",
    "from keras import layers\n",
    "from keras.layers import Embedding, Flatten, Dense, LSTM, regularizers\n",
    "\n",
    "def build_model():\n",
    "    model = models.Sequential()\n",
    "    model.add(Embedding(max_features, max_len))\n",
    "    model.add(LSTM(32))\n",
    "    model.add(Dense(4, activation='sigmoid'))\n",
    "\n",
    "    model.layers[0].set_weights([embedding_matrix])\n",
    "    model.layers[0].trainable = False\n",
    "\n",
    "    model.compile(optimizer='rmsprop',\n",
    "                  loss='binary_crossentropy',\n",
    "                  metrics=['acc'])\n",
    "    return model"
   ]
  },
  {
   "cell_type": "code",
   "execution_count": 17,
   "metadata": {
    "scrolled": true
   },
   "outputs": [
    {
     "name": "stdout",
     "output_type": "stream",
     "text": [
      "Train on 19840 samples, validate on 4960 samples\n",
      "Epoch 1/40\n",
      "19840/19840 [==============================] - 9s 441us/step - loss: 0.7056 - acc: 0.5134 - val_loss: 0.6972 - val_acc: 0.5204\n",
      "Epoch 2/40\n",
      "19840/19840 [==============================] - 8s 382us/step - loss: 0.6927 - acc: 0.5279 - val_loss: 0.6918 - val_acc: 0.5273\n",
      "Epoch 3/40\n",
      "19840/19840 [==============================] - 8s 396us/step - loss: 0.6898 - acc: 0.5366 - val_loss: 0.6901 - val_acc: 0.5327\n",
      "Epoch 4/40\n",
      "19840/19840 [==============================] - 7s 371us/step - loss: 0.6876 - acc: 0.5448 - val_loss: 0.6896 - val_acc: 0.5352\n",
      "Epoch 5/40\n",
      "19840/19840 [==============================] - 7s 372us/step - loss: 0.6859 - acc: 0.5506 - val_loss: 0.6872 - val_acc: 0.5460\n",
      "Epoch 6/40\n",
      "19840/19840 [==============================] - 7s 372us/step - loss: 0.6844 - acc: 0.5552 - val_loss: 0.6872 - val_acc: 0.5447\n",
      "Epoch 7/40\n",
      "19840/19840 [==============================] - 7s 373us/step - loss: 0.6832 - acc: 0.5593 - val_loss: 0.6865 - val_acc: 0.5498\n",
      "Epoch 8/40\n",
      "19840/19840 [==============================] - 8s 390us/step - loss: 0.6819 - acc: 0.5618 - val_loss: 0.6867 - val_acc: 0.5495\n",
      "Epoch 9/40\n",
      "19840/19840 [==============================] - 8s 392us/step - loss: 0.6809 - acc: 0.5634 - val_loss: 0.6859 - val_acc: 0.5530\n",
      "Epoch 10/40\n",
      "19840/19840 [==============================] - 8s 384us/step - loss: 0.6798 - acc: 0.5648 - val_loss: 0.6854 - val_acc: 0.5555\n",
      "Epoch 11/40\n",
      "19840/19840 [==============================] - 8s 390us/step - loss: 0.6786 - acc: 0.5695 - val_loss: 0.6869 - val_acc: 0.5521\n",
      "Epoch 12/40\n",
      "19840/19840 [==============================] - 8s 385us/step - loss: 0.6775 - acc: 0.5702 - val_loss: 0.6862 - val_acc: 0.5525\n",
      "Epoch 13/40\n",
      "19840/19840 [==============================] - 8s 397us/step - loss: 0.6760 - acc: 0.5747 - val_loss: 0.6851 - val_acc: 0.5566\n",
      "Epoch 14/40\n",
      "19840/19840 [==============================] - 8s 389us/step - loss: 0.6752 - acc: 0.5746 - val_loss: 0.6880 - val_acc: 0.5511\n",
      "Epoch 15/40\n",
      "19840/19840 [==============================] - 8s 410us/step - loss: 0.6741 - acc: 0.5768 - val_loss: 0.6859 - val_acc: 0.5576\n",
      "Epoch 16/40\n",
      "19840/19840 [==============================] - 8s 392us/step - loss: 0.6732 - acc: 0.5800 - val_loss: 0.6855 - val_acc: 0.5592\n",
      "Epoch 17/40\n",
      "19840/19840 [==============================] - 8s 397us/step - loss: 0.6720 - acc: 0.5832 - val_loss: 0.6878 - val_acc: 0.5536\n",
      "Epoch 18/40\n",
      "19840/19840 [==============================] - 8s 408us/step - loss: 0.6708 - acc: 0.5846 - val_loss: 0.6861 - val_acc: 0.5555\n",
      "Epoch 19/40\n",
      "19840/19840 [==============================] - 8s 389us/step - loss: 0.6699 - acc: 0.5869 - val_loss: 0.6863 - val_acc: 0.5539\n",
      "Epoch 20/40\n",
      "19840/19840 [==============================] - 8s 386us/step - loss: 0.6689 - acc: 0.5880 - val_loss: 0.6855 - val_acc: 0.5594\n",
      "Epoch 21/40\n",
      "19840/19840 [==============================] - 8s 388us/step - loss: 0.6680 - acc: 0.5900 - val_loss: 0.6862 - val_acc: 0.5584\n",
      "Epoch 22/40\n",
      "19840/19840 [==============================] - 8s 383us/step - loss: 0.6671 - acc: 0.5912 - val_loss: 0.6841 - val_acc: 0.5630\n",
      "Epoch 23/40\n",
      "19840/19840 [==============================] - 8s 389us/step - loss: 0.6660 - acc: 0.5949 - val_loss: 0.6847 - val_acc: 0.5593\n",
      "Epoch 24/40\n",
      "19840/19840 [==============================] - 8s 389us/step - loss: 0.6646 - acc: 0.5960 - val_loss: 0.6882 - val_acc: 0.5578\n",
      "Epoch 25/40\n",
      "19840/19840 [==============================] - 8s 383us/step - loss: 0.6641 - acc: 0.5949 - val_loss: 0.6871 - val_acc: 0.5613\n",
      "Epoch 26/40\n",
      "19840/19840 [==============================] - 7s 377us/step - loss: 0.6629 - acc: 0.5974 - val_loss: 0.6850 - val_acc: 0.5645\n",
      "Epoch 27/40\n",
      "19840/19840 [==============================] - 8s 387us/step - loss: 0.6616 - acc: 0.5997 - val_loss: 0.6872 - val_acc: 0.5588\n",
      "Epoch 28/40\n",
      "19840/19840 [==============================] - 8s 392us/step - loss: 0.6612 - acc: 0.6004 - val_loss: 0.6867 - val_acc: 0.5610\n",
      "Epoch 29/40\n",
      "19840/19840 [==============================] - 8s 386us/step - loss: 0.6600 - acc: 0.6024 - val_loss: 0.6866 - val_acc: 0.5597\n",
      "Epoch 30/40\n",
      "19840/19840 [==============================] - 8s 399us/step - loss: 0.6590 - acc: 0.6039 - val_loss: 0.6865 - val_acc: 0.5606\n",
      "Epoch 31/40\n",
      "19840/19840 [==============================] - 8s 389us/step - loss: 0.6584 - acc: 0.6056 - val_loss: 0.6900 - val_acc: 0.5630\n",
      "Epoch 32/40\n",
      "19840/19840 [==============================] - 8s 390us/step - loss: 0.6575 - acc: 0.6064 - val_loss: 0.6886 - val_acc: 0.5594\n",
      "Epoch 33/40\n",
      "19840/19840 [==============================] - 8s 403us/step - loss: 0.6569 - acc: 0.6088 - val_loss: 0.6879 - val_acc: 0.5613\n",
      "Epoch 34/40\n",
      "19840/19840 [==============================] - 8s 387us/step - loss: 0.6556 - acc: 0.6101 - val_loss: 0.6882 - val_acc: 0.5630\n",
      "Epoch 35/40\n",
      "19840/19840 [==============================] - 8s 386us/step - loss: 0.6549 - acc: 0.6121 - val_loss: 0.6886 - val_acc: 0.5617\n",
      "Epoch 36/40\n",
      "19840/19840 [==============================] - 8s 396us/step - loss: 0.6544 - acc: 0.6123 - val_loss: 0.6909 - val_acc: 0.5602\n",
      "Epoch 37/40\n",
      "19840/19840 [==============================] - 8s 387us/step - loss: 0.6537 - acc: 0.6121 - val_loss: 0.6905 - val_acc: 0.5615\n",
      "Epoch 38/40\n",
      "19840/19840 [==============================] - 8s 392us/step - loss: 0.6527 - acc: 0.6151 - val_loss: 0.6895 - val_acc: 0.5629\n",
      "Epoch 39/40\n",
      "19840/19840 [==============================] - 8s 384us/step - loss: 0.6521 - acc: 0.6153 - val_loss: 0.6912 - val_acc: 0.5589\n",
      "Epoch 40/40\n",
      "19840/19840 [==============================] - 8s 394us/step - loss: 0.6513 - acc: 0.6163 - val_loss: 0.6964 - val_acc: 0.5607\n"
     ]
    }
   ],
   "source": [
    "model = build_model()\n",
    "history = model.fit(x_train, y_train, epochs = 40, batch_size = 128, validation_split=0.2)\n"
   ]
  },
  {
   "cell_type": "code",
   "execution_count": null,
   "metadata": {},
   "outputs": [],
   "source": [
    "model = build_model()\n",
    "y_pred = model.predict(x_test)\n",
    "history = model.fit(x_train, y_train, epochs = 40, batch_size = 128)\n",
    "results = model.evaluate(x_test, y_test)\n",
    "results"
   ]
  },
  {
   "cell_type": "code",
   "execution_count": 15,
   "metadata": {},
   "outputs": [
    {
     "name": "stdout",
     "output_type": "stream",
     "text": [
      "Normalized confusion matrix\n"
     ]
    },
    {
     "data": {
      "text/plain": [
       "<Figure size 1500x1000 with 2 Axes>"
      ]
     },
     "metadata": {},
     "output_type": "display_data"
    },
    {
     "name": "stdout",
     "output_type": "stream",
     "text": [
      "Normalized confusion matrix\n"
     ]
    },
    {
     "data": {
      "text/plain": [
       "<Figure size 640x480 with 0 Axes>"
      ]
     },
     "metadata": {},
     "output_type": "display_data"
    },
    {
     "data": {
      "text/plain": [
       "<Figure size 500x500 with 2 Axes>"
      ]
     },
     "metadata": {},
     "output_type": "display_data"
    },
    {
     "name": "stdout",
     "output_type": "stream",
     "text": [
      "Normalized confusion matrix\n"
     ]
    },
    {
     "data": {
      "text/plain": [
       "<Figure size 640x480 with 0 Axes>"
      ]
     },
     "metadata": {},
     "output_type": "display_data"
    },
    {
     "data": {
      "text/plain": [
       "<Figure size 500x500 with 2 Axes>"
      ]
     },
     "metadata": {},
     "output_type": "display_data"
    },
    {
     "name": "stdout",
     "output_type": "stream",
     "text": [
      "Normalized confusion matrix\n"
     ]
    },
    {
     "data": {
      "text/plain": [
       "<Figure size 640x480 with 0 Axes>"
      ]
     },
     "metadata": {},
     "output_type": "display_data"
    },
    {
     "data": {
      "text/plain": [
       "<Figure size 500x500 with 2 Axes>"
      ]
     },
     "metadata": {},
     "output_type": "display_data"
    },
    {
     "name": "stdout",
     "output_type": "stream",
     "text": [
      "Normalized confusion matrix\n"
     ]
    },
    {
     "data": {
      "text/plain": [
       "<Figure size 640x480 with 0 Axes>"
      ]
     },
     "metadata": {},
     "output_type": "display_data"
    },
    {
     "data": {
      "text/plain": [
       "<Figure size 500x500 with 2 Axes>"
      ]
     },
     "metadata": {},
     "output_type": "display_data"
    }
   ],
   "source": [
    "from sklearn.metrics import confusion_matrix\n",
    "import matplotlib.pyplot as plt\n",
    "import itertools\n",
    "import datetime\n",
    "\n",
    "now = datetime.datetime.now()\n",
    "pictures = []\n",
    "folder = \"LSTM\"\n",
    "\n",
    "def byte_to_mbti(byte):\n",
    "    binary = ''\n",
    "    for letter in byte:\n",
    "         binary +=(str(int(letter)))        \n",
    "    return type_dictionary[binary]\n",
    "\n",
    "decoded_y_true = [byte_to_mbti(label) for label in y_test.round()]\n",
    "decoded_y_pred = [byte_to_mbti(label) for label in y_pred.round()]\n",
    "\n",
    "matrix = confusion_matrix(decoded_y_true, decoded_y_pred, labels=type_labels)\n",
    "matrix_I_E = confusion_matrix(y_test[:,0], y_pred[:,0].round(), labels=[0, 1])\n",
    "matrix_N_S = confusion_matrix(y_test[:,1], y_pred[:,1].round(), labels=[0, 1])\n",
    "matrix_T_F = confusion_matrix(y_test[:,2], y_pred[:,2].round(), labels=[0, 1])\n",
    "matrix_J_P = confusion_matrix(y_test[:,3], y_pred[:,3].round(), labels=[0, 1])\n",
    "\n",
    "def plot_confusion_matrix(cm, classes,\n",
    "                          normalize=False,\n",
    "                          title='Confusion matrix',\n",
    "                          cmap=plt.cm.Blues):\n",
    "    \"\"\"\n",
    "    This function prints and plots the confusion matrix.\n",
    "    Normalization can be applied by setting `normalize=True`.\n",
    "    \"\"\"\n",
    "    if normalize:\n",
    "        cm = cm.astype('float') / cm.sum(axis=1)[:, np.newaxis]\n",
    "        print(\"Normalized confusion matrix\")\n",
    "    else:\n",
    "        print('Confusion matrix, without normalization')\n",
    "\n",
    "    plt.imshow(cm, interpolation='nearest', cmap=cmap)\n",
    "    plt.title(title)\n",
    "    plt.colorbar()\n",
    "    tick_marks = np.arange(len(classes))\n",
    "    plt.xticks(tick_marks, classes, rotation=45)\n",
    "    plt.yticks(tick_marks, classes)\n",
    "\n",
    "    fmt = '.2f' if normalize else 'd'\n",
    "    thresh = cm.max() / 2.\n",
    "    for i, j in itertools.product(range(cm.shape[0]), range(cm.shape[1])):\n",
    "        plt.text(j, i, format(cm[i, j], fmt),\n",
    "                 horizontalalignment=\"center\",\n",
    "                 color=\"white\" if cm[i, j] > thresh else \"black\")\n",
    "\n",
    "    plt.tight_layout()\n",
    "    plt.ylabel('True label')\n",
    "    plt.xlabel('Predicted label')\n",
    "    \n",
    "plt.figure(figsize=(15,10))\n",
    "plot_confusion_matrix(matrix, classes=type_labels, normalize=True,\n",
    "                      title='Confusion matrix')\n",
    "name = str(folder) + \"/\" + str(now.month) + \"-\" + str(now.day) + \"-\" + \\\n",
    "str(now.hour) + \"-\" + str(now.minute) + \"_\" + \"CM0.png\"\n",
    "plt.savefig(name)\n",
    "plt.show()\n",
    "pictures.append(name)\n",
    "\n",
    "plt.clf()\n",
    "plt.figure(figsize=(5,5))\n",
    "plot_confusion_matrix(matrix_I_E, classes=[\"I\", \"E\"], normalize=True,\n",
    "                      title='I-E Confusion matrix')\n",
    "name = str(folder) + \"/\" + str(now.month) + \"-\" + str(now.day) + \"-\" + \\\n",
    "str(now.hour) + \"-\" + str(now.minute) + \"_\" + \"CM4.png\"\n",
    "plt.savefig(name)\n",
    "plt.show()\n",
    "pictures.append(name)\n",
    "\n",
    "plt.clf()\n",
    "plt.figure(figsize=(5,5))\n",
    "plot_confusion_matrix(matrix_N_S, classes=[\"N\", \"S\"], normalize=True,\n",
    "                      title='N-S Confusion matrix')\n",
    "name = str(folder) + \"/\" + str(now.month) + \"-\" + str(now.day) + \"-\" + \\\n",
    "str(now.hour) + \"-\" + str(now.minute) + \"_\" + \"CM2.png\"\n",
    "plt.savefig(name)\n",
    "plt.show()\n",
    "pictures.append(name)\n",
    "\n",
    "plt.clf()\n",
    "plt.figure(figsize=(5,5))\n",
    "plot_confusion_matrix(matrix_T_F, classes=[\"T\", \"F\"], normalize=True,\n",
    "                      title='T-F Confusion matrix')\n",
    "name = str(folder) + \"/\" + str(now.month) + \"-\" + str(now.day) + \"-\" + \\\n",
    "str(now.hour) + \"-\" + str(now.minute) + \"_\" + \"CM3.png\"\n",
    "plt.savefig(name)\n",
    "plt.show()\n",
    "pictures.append(name)\n",
    "\n",
    "plt.clf()\n",
    "plt.figure(figsize=(5,5))\n",
    "plot_confusion_matrix(matrix_J_P, classes=[\"J\", \"P\"], normalize=True,\n",
    "                      title='J-P Confusion matrix')\n",
    "name = str(folder) + \"/\" + str(now.month) + \"-\" + str(now.day) + \"-\" + \\\n",
    "str(now.hour) + \"-\" + str(now.minute) + \"_\" + \"CM4.png\"\n",
    "plt.savefig(name)\n",
    "plt.show()\n",
    "pictures.append(name)"
   ]
  },
  {
   "cell_type": "code",
   "execution_count": 18,
   "metadata": {},
   "outputs": [
    {
     "data": {
      "image/png": "[encoded data removed]",
      "text/plain": [
       "<Figure size 432x288 with 1 Axes>"
      ]
     },
     "metadata": {},
     "output_type": "display_data"
    },
    {
     "data": {
      "image/png": "[encoded data removed]",
      "text/plain": [
       "<Figure size 432x288 with 1 Axes>"
      ]
     },
     "metadata": {},
     "output_type": "display_data"
    }
   ],
   "source": [
    "import matplotlib.pyplot as plt\n",
    "acc = history.history['acc']\n",
    "val_acc = history.history['val_acc']\n",
    "loss = history.history['loss']\n",
    "val_loss = history.history['val_loss']\n",
    "epochs = range(1, len(acc) + 1)\n",
    "plt.plot(epochs, acc, 'bo', label='Training acc')\n",
    "plt.plot(epochs, val_acc, 'b', label='Validation acc')\n",
    "plt.title('Training and validation accuracy')\n",
    "plt.legend()\n",
    "plt.figure()\n",
    "plt.plot(epochs, loss, 'bo', label='Training loss')\n",
    "plt.plot(epochs, val_loss, 'b', label='Validation loss')\n",
    "plt.title('Training and validation loss')\n",
    "plt.legend()\n",
    "plt.show()"
   ]
  },
  {
   "cell_type": "raw",
   "metadata": {},
   "source": [
    "model = models.Sequential()\n",
    "model.add(Embedding(max_words, embedding_dim, input_length=maxlen))\n",
    "model.add(Flatten())\n",
    "model.add(Dense(32, activation='relu'))\n",
    "model.add(Dense(1, activation='sigmoid'))\n",
    "\n",
    "model.layers[0].set_weights([embedding_matrix])\n",
    "model.layers[0].trainable = False\n",
    "\n",
    "model.compile(optimizer='rmsprop',\n",
    "              loss='binary_crossentropy',\n",
    "              metrics=['acc'])\n",
    "\n",
    "model.fit(x_train, y_train, epochs=4, batch_size=8192)\n",
    "model.evaluate(x_test, y_test)"
   ]
  },
  {
   "cell_type": "code",
   "execution_count": 16,
   "metadata": {},
   "outputs": [],
   "source": [
    "def myprint(s):\n",
    "    with open('results.log','a+') as f:\n",
    "        print(s, file=f)\n",
    "    f.close()\n",
    "        \n",
    "log_file = open('results.log', 'a+')\n",
    "\n",
    "log_file.write(\"\\n=================================================================\")\n",
    "log_file.write( \"\\n\" + str(now.month) + \"/\" + str(now.day) + \"/\" + str(now.year) + \" \" + \\\n",
    "str(now.hour) + \":\" + str(now.minute) + \":\" + str(now.second) + \"\\n\")\n",
    "\n",
    "log_file.close()\n",
    "\n",
    "model.summary(print_fn=myprint)\n",
    "\n",
    "log_file = open('results.log', 'a+')\n",
    "\n",
    "log_file.write(\"Results:\\t\" + str(results) + \"\\n\")\n",
    "\n",
    "log_file.write(\"Images:\\n\")\n",
    "log_file.write(\"\\t\" + pictures[0] + \"\\n\")\n",
    "log_file.write(\"\\t\" + pictures[1] + \"\\n\")\n",
    "log_file.write(\"\\t\" + pictures[2] + \"\\n\")\n",
    "log_file.write(\"\\t\" + pictures[3] + \"\\n\")\n",
    "log_file.write(\"\\t\" + pictures[4] + \"\\n\")\n",
    "\n",
    "log_file.close()"
   ]
  },
  {
   "cell_type": "code",
   "execution_count": null,
   "metadata": {},
   "outputs": [],
   "source": []
  }
 ],
 "metadata": {
  "kernelspec": {
   "display_name": "Python 3",
   "language": "python",
   "name": "python3"
  },
  "language_info": {
   "codemirror_mode": {
    "name": "ipython",
    "version": 3
   },
   "file_extension": ".py",
   "mimetype": "text/x-python",
   "name": "python",
   "nbconvert_exporter": "python",
   "pygments_lexer": "ipython3",
   "version": "3.6.5"
  }
 },
 "nbformat": 4,
 "nbformat_minor": 2
}
